{
  "nbformat": 4,
  "nbformat_minor": 0,
  "metadata": {
    "colab": {
      "provenance": [],
      "authorship_tag": "ABX9TyOPeR0N+9H5Aiy9RvxAyEVo",
      "include_colab_link": true
    },
    "kernelspec": {
      "name": "python3",
      "display_name": "Python 3"
    },
    "language_info": {
      "name": "python"
    }
  },
  "cells": [
    {
      "cell_type": "markdown",
      "metadata": {
        "id": "view-in-github",
        "colab_type": "text"
      },
      "source": [
        "<a href=\"https://colab.research.google.com/github/kip-07/GooglecolabAI/blob/main/Best_First_Search.ipynb\" target=\"_parent\"><img src=\"https://colab.research.google.com/assets/colab-badge.svg\" alt=\"Open In Colab\"/></a>"
      ]
    },
    {
      "cell_type": "code",
      "execution_count": 34,
      "metadata": {
        "id": "ItC0dJCbjGGw"
      },
      "outputs": [],
      "source": [
        "import heapq\n",
        "from IPython.display import HTML, display\n"
      ]
    },
    {
      "cell_type": "code",
      "source": [
        "def display_colored_grid(grid):\n",
        "    html = '<table style=\"border-collapse: collapse;\">'\n",
        "    for row in grid:\n",
        "        html += '<tr>'\n",
        "        for cell in row:\n",
        "            color = 'white'\n",
        "            text_color = 'black'  # Ensure numbers are black\n",
        "            display_value = cell if cell != 99 else ''\n",
        "            font_size = '15px' if cell != 99 else '0px'\n",
        "            if cell == 99:\n",
        "                color = 'black'\n",
        "            html += f'<td style=\"width: 20px; height: 20px; background-color: {color}; border: 1px solid gray; text-align: center; vertical-align: middle; font-family: Arial; font-size: {font_size}; color: {text_color};\">{display_value}</td>'\n",
        "        html += '</tr>'\n",
        "    html += '</table>'\n",
        "    display(HTML(html))"
      ],
      "metadata": {
        "id": "vCpEM0n9jS6n"
      },
      "execution_count": 36,
      "outputs": []
    },
    {
      "cell_type": "code",
      "source": [
        "# Section 3: Maze Generation\n",
        "def generate_static_maze():\n",
        "    return [\n",
        "        [0, 0, 0, 0, 99, 0, 0, 0, 99, 0, 0, 0, 0, 0, 0],\n",
        "        [0, 99, 99, 0, 99, 0, 99, 0, 99, 0, 99, 99, 99, 99, 0],\n",
        "        [0, 0, 0, 0, 0, 0, 99, 0, 0, 0, 99, 0, 0, 0, 0],\n",
        "        [99, 99, 99, 99, 99, 0, 99, 99, 99, 0, 99, 0, 99, 99, 0],\n",
        "        [0, 0, 0, 0, 99, 0, 0, 0, 99, 0, 0, 0, 0, 99, 0],\n",
        "        [0, 99, 99, 0, 99, 99, 99, 0, 99, 99, 99, 99, 0, 99, 0],\n",
        "        [0, 99, 0, 0, 0, 0, 0, 0, 0, 0, 0, 0, 0, 99, 0],\n",
        "        [0, 99, 99, 99, 99, 99, 99, 99, 99, 99, 99, 99, 0, 99, 0],\n",
        "        [0, 0, 0, 0, 0, 0, 0, 0, 0, 0, 0, 99, 0, 0, 0],\n",
        "        [0, 99, 99, 99, 0, 99, 99, 99, 99, 99, 0, 99, 99, 99, 0],\n",
        "        [0, 0, 0, 99, 0, 0, 0, 0, 0, 99, 0, 0, 0, 99, 0],\n",
        "        [99, 99, 0, 99, 99, 99, 99, 99, 0, 99, 99, 99, 0, 99, 0],\n",
        "        [0, 0, 0, 0, 0, 0, 0, 0, 0, 0, 0, 99, 0, 99, 0],\n",
        "        [0, 99, 99, 99, 99, 99, 99, 99, 99, 99, 0, 99, 0, 99, 0],\n",
        "        [0, 0, 0, 0, 0, 0, 0, 0, 0, 0, 0, 0, 0, 0, 0]\n",
        "    ]"
      ],
      "metadata": {
        "id": "X4ZQEFwOjdI9"
      },
      "execution_count": 27,
      "outputs": []
    },
    {
      "cell_type": "code",
      "source": [
        "# Section 4: Best-First Search Algorithm\n",
        "def manhattan_distance(a, b):\n",
        "    \"\"\"Computes the Manhattan Distance between two points.\"\"\"\n",
        "    return abs(a[0] - b[0]) + abs(a[1] - b[1])\n",
        "\n",
        "def best_first_search(grid, start, goal):\n",
        "    \"\"\"Performs Best-First Search to find the treasure in the grid.\"\"\"\n",
        "    rows, cols = len(grid), len(grid[0])\n",
        "    directions = [(-1, 0), (1, 0), (0, -1), (0, 1)]  # Up, Down, Left, Right\n",
        "    pq = [(manhattan_distance(start, goal), start)]\n",
        "    visited = set()\n",
        "\n",
        "    while pq:\n",
        "        _, current = heapq.heappop(pq)\n",
        "        if current in visited:\n",
        "            continue\n",
        "        visited.add(current)\n",
        "\n",
        "        x, y = current\n",
        "        grid[x][y] = manhattan_distance(current, goal)  # Store heuristic value\n",
        "\n",
        "        if current == goal:\n",
        "            return  # Treasure found\n",
        "\n",
        "        for dx, dy in directions:\n",
        "            nx, ny = x + dx, y + dy\n",
        "            if 0 <= nx < rows and 0 <= ny < cols and (nx, ny) not in visited and grid[nx][ny] != 99:\n",
        "                heapq.heappush(pq, (manhattan_distance((nx, ny), goal), (nx, ny)))\n"
      ],
      "metadata": {
        "id": "RL6hNgl2kP5E"
      },
      "execution_count": 21,
      "outputs": []
    },
    {
      "cell_type": "code",
      "source": [
        "def run_treasure_hunt():\n",
        "    grid = generate_static_maze()\n",
        "    start, goal = (0, 0), (14, 14)\n",
        "    best_first_search(grid, start, goal)\n",
        "    display_colored_grid(grid)"
      ],
      "metadata": {
        "id": "SSXPTISakTKQ"
      },
      "execution_count": 28,
      "outputs": []
    },
    {
      "cell_type": "code",
      "source": [
        "run_treasure_hunt()"
      ],
      "metadata": {
        "colab": {
          "base_uri": "https://localhost:8080/",
          "height": 358
        },
        "id": "73ScHtq7kW0A",
        "outputId": "a1138034-c469-461e-e4a0-94c3ff304f3f"
      },
      "execution_count": 29,
      "outputs": [
        {
          "output_type": "display_data",
          "data": {
            "text/plain": [
              "<IPython.core.display.HTML object>"
            ],
            "text/html": [
              "<table style=\"border-collapse: collapse;\"><tr><td style=\"width: 20px; height: 20px; background-color: white; border: 1px solid gray; text-align: center; vertical-align: middle; font-family: Arial; font-size: 15px; color: black;\">28</td><td style=\"width: 20px; height: 20px; background-color: white; border: 1px solid gray; text-align: center; vertical-align: middle; font-family: Arial; font-size: 15px; color: black;\">27</td><td style=\"width: 20px; height: 20px; background-color: white; border: 1px solid gray; text-align: center; vertical-align: middle; font-family: Arial; font-size: 15px; color: black;\">26</td><td style=\"width: 20px; height: 20px; background-color: white; border: 1px solid gray; text-align: center; vertical-align: middle; font-family: Arial; font-size: 15px; color: black;\">25</td><td style=\"width: 20px; height: 20px; background-color: black; border: 1px solid gray; text-align: center; vertical-align: middle; font-family: Arial; font-size: 0px; color: black;\"></td><td style=\"width: 20px; height: 20px; background-color: white; border: 1px solid gray; text-align: center; vertical-align: middle; font-family: Arial; font-size: 15px; color: black;\">0</td><td style=\"width: 20px; height: 20px; background-color: white; border: 1px solid gray; text-align: center; vertical-align: middle; font-family: Arial; font-size: 15px; color: black;\">0</td><td style=\"width: 20px; height: 20px; background-color: white; border: 1px solid gray; text-align: center; vertical-align: middle; font-family: Arial; font-size: 15px; color: black;\">0</td><td style=\"width: 20px; height: 20px; background-color: black; border: 1px solid gray; text-align: center; vertical-align: middle; font-family: Arial; font-size: 0px; color: black;\"></td><td style=\"width: 20px; height: 20px; background-color: white; border: 1px solid gray; text-align: center; vertical-align: middle; font-family: Arial; font-size: 15px; color: black;\">0</td><td style=\"width: 20px; height: 20px; background-color: white; border: 1px solid gray; text-align: center; vertical-align: middle; font-family: Arial; font-size: 15px; color: black;\">0</td><td style=\"width: 20px; height: 20px; background-color: white; border: 1px solid gray; text-align: center; vertical-align: middle; font-family: Arial; font-size: 15px; color: black;\">0</td><td style=\"width: 20px; height: 20px; background-color: white; border: 1px solid gray; text-align: center; vertical-align: middle; font-family: Arial; font-size: 15px; color: black;\">0</td><td style=\"width: 20px; height: 20px; background-color: white; border: 1px solid gray; text-align: center; vertical-align: middle; font-family: Arial; font-size: 15px; color: black;\">0</td><td style=\"width: 20px; height: 20px; background-color: white; border: 1px solid gray; text-align: center; vertical-align: middle; font-family: Arial; font-size: 15px; color: black;\">0</td></tr><tr><td style=\"width: 20px; height: 20px; background-color: white; border: 1px solid gray; text-align: center; vertical-align: middle; font-family: Arial; font-size: 15px; color: black;\">0</td><td style=\"width: 20px; height: 20px; background-color: black; border: 1px solid gray; text-align: center; vertical-align: middle; font-family: Arial; font-size: 0px; color: black;\"></td><td style=\"width: 20px; height: 20px; background-color: black; border: 1px solid gray; text-align: center; vertical-align: middle; font-family: Arial; font-size: 0px; color: black;\"></td><td style=\"width: 20px; height: 20px; background-color: white; border: 1px solid gray; text-align: center; vertical-align: middle; font-family: Arial; font-size: 15px; color: black;\">24</td><td style=\"width: 20px; height: 20px; background-color: black; border: 1px solid gray; text-align: center; vertical-align: middle; font-family: Arial; font-size: 0px; color: black;\"></td><td style=\"width: 20px; height: 20px; background-color: white; border: 1px solid gray; text-align: center; vertical-align: middle; font-family: Arial; font-size: 15px; color: black;\">0</td><td style=\"width: 20px; height: 20px; background-color: black; border: 1px solid gray; text-align: center; vertical-align: middle; font-family: Arial; font-size: 0px; color: black;\"></td><td style=\"width: 20px; height: 20px; background-color: white; border: 1px solid gray; text-align: center; vertical-align: middle; font-family: Arial; font-size: 15px; color: black;\">0</td><td style=\"width: 20px; height: 20px; background-color: black; border: 1px solid gray; text-align: center; vertical-align: middle; font-family: Arial; font-size: 0px; color: black;\"></td><td style=\"width: 20px; height: 20px; background-color: white; border: 1px solid gray; text-align: center; vertical-align: middle; font-family: Arial; font-size: 15px; color: black;\">0</td><td style=\"width: 20px; height: 20px; background-color: black; border: 1px solid gray; text-align: center; vertical-align: middle; font-family: Arial; font-size: 0px; color: black;\"></td><td style=\"width: 20px; height: 20px; background-color: black; border: 1px solid gray; text-align: center; vertical-align: middle; font-family: Arial; font-size: 0px; color: black;\"></td><td style=\"width: 20px; height: 20px; background-color: black; border: 1px solid gray; text-align: center; vertical-align: middle; font-family: Arial; font-size: 0px; color: black;\"></td><td style=\"width: 20px; height: 20px; background-color: black; border: 1px solid gray; text-align: center; vertical-align: middle; font-family: Arial; font-size: 0px; color: black;\"></td><td style=\"width: 20px; height: 20px; background-color: white; border: 1px solid gray; text-align: center; vertical-align: middle; font-family: Arial; font-size: 15px; color: black;\">0</td></tr><tr><td style=\"width: 20px; height: 20px; background-color: white; border: 1px solid gray; text-align: center; vertical-align: middle; font-family: Arial; font-size: 15px; color: black;\">0</td><td style=\"width: 20px; height: 20px; background-color: white; border: 1px solid gray; text-align: center; vertical-align: middle; font-family: Arial; font-size: 15px; color: black;\">0</td><td style=\"width: 20px; height: 20px; background-color: white; border: 1px solid gray; text-align: center; vertical-align: middle; font-family: Arial; font-size: 15px; color: black;\">0</td><td style=\"width: 20px; height: 20px; background-color: white; border: 1px solid gray; text-align: center; vertical-align: middle; font-family: Arial; font-size: 15px; color: black;\">23</td><td style=\"width: 20px; height: 20px; background-color: white; border: 1px solid gray; text-align: center; vertical-align: middle; font-family: Arial; font-size: 15px; color: black;\">22</td><td style=\"width: 20px; height: 20px; background-color: white; border: 1px solid gray; text-align: center; vertical-align: middle; font-family: Arial; font-size: 15px; color: black;\">21</td><td style=\"width: 20px; height: 20px; background-color: black; border: 1px solid gray; text-align: center; vertical-align: middle; font-family: Arial; font-size: 0px; color: black;\"></td><td style=\"width: 20px; height: 20px; background-color: white; border: 1px solid gray; text-align: center; vertical-align: middle; font-family: Arial; font-size: 15px; color: black;\">0</td><td style=\"width: 20px; height: 20px; background-color: white; border: 1px solid gray; text-align: center; vertical-align: middle; font-family: Arial; font-size: 15px; color: black;\">0</td><td style=\"width: 20px; height: 20px; background-color: white; border: 1px solid gray; text-align: center; vertical-align: middle; font-family: Arial; font-size: 15px; color: black;\">0</td><td style=\"width: 20px; height: 20px; background-color: black; border: 1px solid gray; text-align: center; vertical-align: middle; font-family: Arial; font-size: 0px; color: black;\"></td><td style=\"width: 20px; height: 20px; background-color: white; border: 1px solid gray; text-align: center; vertical-align: middle; font-family: Arial; font-size: 15px; color: black;\">0</td><td style=\"width: 20px; height: 20px; background-color: white; border: 1px solid gray; text-align: center; vertical-align: middle; font-family: Arial; font-size: 15px; color: black;\">0</td><td style=\"width: 20px; height: 20px; background-color: white; border: 1px solid gray; text-align: center; vertical-align: middle; font-family: Arial; font-size: 15px; color: black;\">0</td><td style=\"width: 20px; height: 20px; background-color: white; border: 1px solid gray; text-align: center; vertical-align: middle; font-family: Arial; font-size: 15px; color: black;\">0</td></tr><tr><td style=\"width: 20px; height: 20px; background-color: black; border: 1px solid gray; text-align: center; vertical-align: middle; font-family: Arial; font-size: 0px; color: black;\"></td><td style=\"width: 20px; height: 20px; background-color: black; border: 1px solid gray; text-align: center; vertical-align: middle; font-family: Arial; font-size: 0px; color: black;\"></td><td style=\"width: 20px; height: 20px; background-color: black; border: 1px solid gray; text-align: center; vertical-align: middle; font-family: Arial; font-size: 0px; color: black;\"></td><td style=\"width: 20px; height: 20px; background-color: black; border: 1px solid gray; text-align: center; vertical-align: middle; font-family: Arial; font-size: 0px; color: black;\"></td><td style=\"width: 20px; height: 20px; background-color: black; border: 1px solid gray; text-align: center; vertical-align: middle; font-family: Arial; font-size: 0px; color: black;\"></td><td style=\"width: 20px; height: 20px; background-color: white; border: 1px solid gray; text-align: center; vertical-align: middle; font-family: Arial; font-size: 15px; color: black;\">20</td><td style=\"width: 20px; height: 20px; background-color: black; border: 1px solid gray; text-align: center; vertical-align: middle; font-family: Arial; font-size: 0px; color: black;\"></td><td style=\"width: 20px; height: 20px; background-color: black; border: 1px solid gray; text-align: center; vertical-align: middle; font-family: Arial; font-size: 0px; color: black;\"></td><td style=\"width: 20px; height: 20px; background-color: black; border: 1px solid gray; text-align: center; vertical-align: middle; font-family: Arial; font-size: 0px; color: black;\"></td><td style=\"width: 20px; height: 20px; background-color: white; border: 1px solid gray; text-align: center; vertical-align: middle; font-family: Arial; font-size: 15px; color: black;\">0</td><td style=\"width: 20px; height: 20px; background-color: black; border: 1px solid gray; text-align: center; vertical-align: middle; font-family: Arial; font-size: 0px; color: black;\"></td><td style=\"width: 20px; height: 20px; background-color: white; border: 1px solid gray; text-align: center; vertical-align: middle; font-family: Arial; font-size: 15px; color: black;\">0</td><td style=\"width: 20px; height: 20px; background-color: black; border: 1px solid gray; text-align: center; vertical-align: middle; font-family: Arial; font-size: 0px; color: black;\"></td><td style=\"width: 20px; height: 20px; background-color: black; border: 1px solid gray; text-align: center; vertical-align: middle; font-family: Arial; font-size: 0px; color: black;\"></td><td style=\"width: 20px; height: 20px; background-color: white; border: 1px solid gray; text-align: center; vertical-align: middle; font-family: Arial; font-size: 15px; color: black;\">0</td></tr><tr><td style=\"width: 20px; height: 20px; background-color: white; border: 1px solid gray; text-align: center; vertical-align: middle; font-family: Arial; font-size: 15px; color: black;\">0</td><td style=\"width: 20px; height: 20px; background-color: white; border: 1px solid gray; text-align: center; vertical-align: middle; font-family: Arial; font-size: 15px; color: black;\">0</td><td style=\"width: 20px; height: 20px; background-color: white; border: 1px solid gray; text-align: center; vertical-align: middle; font-family: Arial; font-size: 15px; color: black;\">0</td><td style=\"width: 20px; height: 20px; background-color: white; border: 1px solid gray; text-align: center; vertical-align: middle; font-family: Arial; font-size: 15px; color: black;\">0</td><td style=\"width: 20px; height: 20px; background-color: black; border: 1px solid gray; text-align: center; vertical-align: middle; font-family: Arial; font-size: 0px; color: black;\"></td><td style=\"width: 20px; height: 20px; background-color: white; border: 1px solid gray; text-align: center; vertical-align: middle; font-family: Arial; font-size: 15px; color: black;\">19</td><td style=\"width: 20px; height: 20px; background-color: white; border: 1px solid gray; text-align: center; vertical-align: middle; font-family: Arial; font-size: 15px; color: black;\">18</td><td style=\"width: 20px; height: 20px; background-color: white; border: 1px solid gray; text-align: center; vertical-align: middle; font-family: Arial; font-size: 15px; color: black;\">17</td><td style=\"width: 20px; height: 20px; background-color: black; border: 1px solid gray; text-align: center; vertical-align: middle; font-family: Arial; font-size: 0px; color: black;\"></td><td style=\"width: 20px; height: 20px; background-color: white; border: 1px solid gray; text-align: center; vertical-align: middle; font-family: Arial; font-size: 15px; color: black;\">0</td><td style=\"width: 20px; height: 20px; background-color: white; border: 1px solid gray; text-align: center; vertical-align: middle; font-family: Arial; font-size: 15px; color: black;\">0</td><td style=\"width: 20px; height: 20px; background-color: white; border: 1px solid gray; text-align: center; vertical-align: middle; font-family: Arial; font-size: 15px; color: black;\">0</td><td style=\"width: 20px; height: 20px; background-color: white; border: 1px solid gray; text-align: center; vertical-align: middle; font-family: Arial; font-size: 15px; color: black;\">0</td><td style=\"width: 20px; height: 20px; background-color: black; border: 1px solid gray; text-align: center; vertical-align: middle; font-family: Arial; font-size: 0px; color: black;\"></td><td style=\"width: 20px; height: 20px; background-color: white; border: 1px solid gray; text-align: center; vertical-align: middle; font-family: Arial; font-size: 15px; color: black;\">0</td></tr><tr><td style=\"width: 20px; height: 20px; background-color: white; border: 1px solid gray; text-align: center; vertical-align: middle; font-family: Arial; font-size: 15px; color: black;\">0</td><td style=\"width: 20px; height: 20px; background-color: black; border: 1px solid gray; text-align: center; vertical-align: middle; font-family: Arial; font-size: 0px; color: black;\"></td><td style=\"width: 20px; height: 20px; background-color: black; border: 1px solid gray; text-align: center; vertical-align: middle; font-family: Arial; font-size: 0px; color: black;\"></td><td style=\"width: 20px; height: 20px; background-color: white; border: 1px solid gray; text-align: center; vertical-align: middle; font-family: Arial; font-size: 15px; color: black;\">0</td><td style=\"width: 20px; height: 20px; background-color: black; border: 1px solid gray; text-align: center; vertical-align: middle; font-family: Arial; font-size: 0px; color: black;\"></td><td style=\"width: 20px; height: 20px; background-color: black; border: 1px solid gray; text-align: center; vertical-align: middle; font-family: Arial; font-size: 0px; color: black;\"></td><td style=\"width: 20px; height: 20px; background-color: black; border: 1px solid gray; text-align: center; vertical-align: middle; font-family: Arial; font-size: 0px; color: black;\"></td><td style=\"width: 20px; height: 20px; background-color: white; border: 1px solid gray; text-align: center; vertical-align: middle; font-family: Arial; font-size: 15px; color: black;\">16</td><td style=\"width: 20px; height: 20px; background-color: black; border: 1px solid gray; text-align: center; vertical-align: middle; font-family: Arial; font-size: 0px; color: black;\"></td><td style=\"width: 20px; height: 20px; background-color: black; border: 1px solid gray; text-align: center; vertical-align: middle; font-family: Arial; font-size: 0px; color: black;\"></td><td style=\"width: 20px; height: 20px; background-color: black; border: 1px solid gray; text-align: center; vertical-align: middle; font-family: Arial; font-size: 0px; color: black;\"></td><td style=\"width: 20px; height: 20px; background-color: black; border: 1px solid gray; text-align: center; vertical-align: middle; font-family: Arial; font-size: 0px; color: black;\"></td><td style=\"width: 20px; height: 20px; background-color: white; border: 1px solid gray; text-align: center; vertical-align: middle; font-family: Arial; font-size: 15px; color: black;\">0</td><td style=\"width: 20px; height: 20px; background-color: black; border: 1px solid gray; text-align: center; vertical-align: middle; font-family: Arial; font-size: 0px; color: black;\"></td><td style=\"width: 20px; height: 20px; background-color: white; border: 1px solid gray; text-align: center; vertical-align: middle; font-family: Arial; font-size: 15px; color: black;\">0</td></tr><tr><td style=\"width: 20px; height: 20px; background-color: white; border: 1px solid gray; text-align: center; vertical-align: middle; font-family: Arial; font-size: 15px; color: black;\">0</td><td style=\"width: 20px; height: 20px; background-color: black; border: 1px solid gray; text-align: center; vertical-align: middle; font-family: Arial; font-size: 0px; color: black;\"></td><td style=\"width: 20px; height: 20px; background-color: white; border: 1px solid gray; text-align: center; vertical-align: middle; font-family: Arial; font-size: 15px; color: black;\">0</td><td style=\"width: 20px; height: 20px; background-color: white; border: 1px solid gray; text-align: center; vertical-align: middle; font-family: Arial; font-size: 15px; color: black;\">0</td><td style=\"width: 20px; height: 20px; background-color: white; border: 1px solid gray; text-align: center; vertical-align: middle; font-family: Arial; font-size: 15px; color: black;\">0</td><td style=\"width: 20px; height: 20px; background-color: white; border: 1px solid gray; text-align: center; vertical-align: middle; font-family: Arial; font-size: 15px; color: black;\">0</td><td style=\"width: 20px; height: 20px; background-color: white; border: 1px solid gray; text-align: center; vertical-align: middle; font-family: Arial; font-size: 15px; color: black;\">0</td><td style=\"width: 20px; height: 20px; background-color: white; border: 1px solid gray; text-align: center; vertical-align: middle; font-family: Arial; font-size: 15px; color: black;\">15</td><td style=\"width: 20px; height: 20px; background-color: white; border: 1px solid gray; text-align: center; vertical-align: middle; font-family: Arial; font-size: 15px; color: black;\">14</td><td style=\"width: 20px; height: 20px; background-color: white; border: 1px solid gray; text-align: center; vertical-align: middle; font-family: Arial; font-size: 15px; color: black;\">13</td><td style=\"width: 20px; height: 20px; background-color: white; border: 1px solid gray; text-align: center; vertical-align: middle; font-family: Arial; font-size: 15px; color: black;\">12</td><td style=\"width: 20px; height: 20px; background-color: white; border: 1px solid gray; text-align: center; vertical-align: middle; font-family: Arial; font-size: 15px; color: black;\">11</td><td style=\"width: 20px; height: 20px; background-color: white; border: 1px solid gray; text-align: center; vertical-align: middle; font-family: Arial; font-size: 15px; color: black;\">10</td><td style=\"width: 20px; height: 20px; background-color: black; border: 1px solid gray; text-align: center; vertical-align: middle; font-family: Arial; font-size: 0px; color: black;\"></td><td style=\"width: 20px; height: 20px; background-color: white; border: 1px solid gray; text-align: center; vertical-align: middle; font-family: Arial; font-size: 15px; color: black;\">0</td></tr><tr><td style=\"width: 20px; height: 20px; background-color: white; border: 1px solid gray; text-align: center; vertical-align: middle; font-family: Arial; font-size: 15px; color: black;\">0</td><td style=\"width: 20px; height: 20px; background-color: black; border: 1px solid gray; text-align: center; vertical-align: middle; font-family: Arial; font-size: 0px; color: black;\"></td><td style=\"width: 20px; height: 20px; background-color: black; border: 1px solid gray; text-align: center; vertical-align: middle; font-family: Arial; font-size: 0px; color: black;\"></td><td style=\"width: 20px; height: 20px; background-color: black; border: 1px solid gray; text-align: center; vertical-align: middle; font-family: Arial; font-size: 0px; color: black;\"></td><td style=\"width: 20px; height: 20px; background-color: black; border: 1px solid gray; text-align: center; vertical-align: middle; font-family: Arial; font-size: 0px; color: black;\"></td><td style=\"width: 20px; height: 20px; background-color: black; border: 1px solid gray; text-align: center; vertical-align: middle; font-family: Arial; font-size: 0px; color: black;\"></td><td style=\"width: 20px; height: 20px; background-color: black; border: 1px solid gray; text-align: center; vertical-align: middle; font-family: Arial; font-size: 0px; color: black;\"></td><td style=\"width: 20px; height: 20px; background-color: black; border: 1px solid gray; text-align: center; vertical-align: middle; font-family: Arial; font-size: 0px; color: black;\"></td><td style=\"width: 20px; height: 20px; background-color: black; border: 1px solid gray; text-align: center; vertical-align: middle; font-family: Arial; font-size: 0px; color: black;\"></td><td style=\"width: 20px; height: 20px; background-color: black; border: 1px solid gray; text-align: center; vertical-align: middle; font-family: Arial; font-size: 0px; color: black;\"></td><td style=\"width: 20px; height: 20px; background-color: black; border: 1px solid gray; text-align: center; vertical-align: middle; font-family: Arial; font-size: 0px; color: black;\"></td><td style=\"width: 20px; height: 20px; background-color: black; border: 1px solid gray; text-align: center; vertical-align: middle; font-family: Arial; font-size: 0px; color: black;\"></td><td style=\"width: 20px; height: 20px; background-color: white; border: 1px solid gray; text-align: center; vertical-align: middle; font-family: Arial; font-size: 15px; color: black;\">9</td><td style=\"width: 20px; height: 20px; background-color: black; border: 1px solid gray; text-align: center; vertical-align: middle; font-family: Arial; font-size: 0px; color: black;\"></td><td style=\"width: 20px; height: 20px; background-color: white; border: 1px solid gray; text-align: center; vertical-align: middle; font-family: Arial; font-size: 15px; color: black;\">0</td></tr><tr><td style=\"width: 20px; height: 20px; background-color: white; border: 1px solid gray; text-align: center; vertical-align: middle; font-family: Arial; font-size: 15px; color: black;\">0</td><td style=\"width: 20px; height: 20px; background-color: white; border: 1px solid gray; text-align: center; vertical-align: middle; font-family: Arial; font-size: 15px; color: black;\">0</td><td style=\"width: 20px; height: 20px; background-color: white; border: 1px solid gray; text-align: center; vertical-align: middle; font-family: Arial; font-size: 15px; color: black;\">0</td><td style=\"width: 20px; height: 20px; background-color: white; border: 1px solid gray; text-align: center; vertical-align: middle; font-family: Arial; font-size: 15px; color: black;\">0</td><td style=\"width: 20px; height: 20px; background-color: white; border: 1px solid gray; text-align: center; vertical-align: middle; font-family: Arial; font-size: 15px; color: black;\">0</td><td style=\"width: 20px; height: 20px; background-color: white; border: 1px solid gray; text-align: center; vertical-align: middle; font-family: Arial; font-size: 15px; color: black;\">0</td><td style=\"width: 20px; height: 20px; background-color: white; border: 1px solid gray; text-align: center; vertical-align: middle; font-family: Arial; font-size: 15px; color: black;\">0</td><td style=\"width: 20px; height: 20px; background-color: white; border: 1px solid gray; text-align: center; vertical-align: middle; font-family: Arial; font-size: 15px; color: black;\">0</td><td style=\"width: 20px; height: 20px; background-color: white; border: 1px solid gray; text-align: center; vertical-align: middle; font-family: Arial; font-size: 15px; color: black;\">0</td><td style=\"width: 20px; height: 20px; background-color: white; border: 1px solid gray; text-align: center; vertical-align: middle; font-family: Arial; font-size: 15px; color: black;\">0</td><td style=\"width: 20px; height: 20px; background-color: white; border: 1px solid gray; text-align: center; vertical-align: middle; font-family: Arial; font-size: 15px; color: black;\">0</td><td style=\"width: 20px; height: 20px; background-color: black; border: 1px solid gray; text-align: center; vertical-align: middle; font-family: Arial; font-size: 0px; color: black;\"></td><td style=\"width: 20px; height: 20px; background-color: white; border: 1px solid gray; text-align: center; vertical-align: middle; font-family: Arial; font-size: 15px; color: black;\">8</td><td style=\"width: 20px; height: 20px; background-color: white; border: 1px solid gray; text-align: center; vertical-align: middle; font-family: Arial; font-size: 15px; color: black;\">7</td><td style=\"width: 20px; height: 20px; background-color: white; border: 1px solid gray; text-align: center; vertical-align: middle; font-family: Arial; font-size: 15px; color: black;\">6</td></tr><tr><td style=\"width: 20px; height: 20px; background-color: white; border: 1px solid gray; text-align: center; vertical-align: middle; font-family: Arial; font-size: 15px; color: black;\">0</td><td style=\"width: 20px; height: 20px; background-color: black; border: 1px solid gray; text-align: center; vertical-align: middle; font-family: Arial; font-size: 0px; color: black;\"></td><td style=\"width: 20px; height: 20px; background-color: black; border: 1px solid gray; text-align: center; vertical-align: middle; font-family: Arial; font-size: 0px; color: black;\"></td><td style=\"width: 20px; height: 20px; background-color: black; border: 1px solid gray; text-align: center; vertical-align: middle; font-family: Arial; font-size: 0px; color: black;\"></td><td style=\"width: 20px; height: 20px; background-color: white; border: 1px solid gray; text-align: center; vertical-align: middle; font-family: Arial; font-size: 15px; color: black;\">0</td><td style=\"width: 20px; height: 20px; background-color: black; border: 1px solid gray; text-align: center; vertical-align: middle; font-family: Arial; font-size: 0px; color: black;\"></td><td style=\"width: 20px; height: 20px; background-color: black; border: 1px solid gray; text-align: center; vertical-align: middle; font-family: Arial; font-size: 0px; color: black;\"></td><td style=\"width: 20px; height: 20px; background-color: black; border: 1px solid gray; text-align: center; vertical-align: middle; font-family: Arial; font-size: 0px; color: black;\"></td><td style=\"width: 20px; height: 20px; background-color: black; border: 1px solid gray; text-align: center; vertical-align: middle; font-family: Arial; font-size: 0px; color: black;\"></td><td style=\"width: 20px; height: 20px; background-color: black; border: 1px solid gray; text-align: center; vertical-align: middle; font-family: Arial; font-size: 0px; color: black;\"></td><td style=\"width: 20px; height: 20px; background-color: white; border: 1px solid gray; text-align: center; vertical-align: middle; font-family: Arial; font-size: 15px; color: black;\">0</td><td style=\"width: 20px; height: 20px; background-color: black; border: 1px solid gray; text-align: center; vertical-align: middle; font-family: Arial; font-size: 0px; color: black;\"></td><td style=\"width: 20px; height: 20px; background-color: black; border: 1px solid gray; text-align: center; vertical-align: middle; font-family: Arial; font-size: 0px; color: black;\"></td><td style=\"width: 20px; height: 20px; background-color: black; border: 1px solid gray; text-align: center; vertical-align: middle; font-family: Arial; font-size: 0px; color: black;\"></td><td style=\"width: 20px; height: 20px; background-color: white; border: 1px solid gray; text-align: center; vertical-align: middle; font-family: Arial; font-size: 15px; color: black;\">5</td></tr><tr><td style=\"width: 20px; height: 20px; background-color: white; border: 1px solid gray; text-align: center; vertical-align: middle; font-family: Arial; font-size: 15px; color: black;\">0</td><td style=\"width: 20px; height: 20px; background-color: white; border: 1px solid gray; text-align: center; vertical-align: middle; font-family: Arial; font-size: 15px; color: black;\">0</td><td style=\"width: 20px; height: 20px; background-color: white; border: 1px solid gray; text-align: center; vertical-align: middle; font-family: Arial; font-size: 15px; color: black;\">0</td><td style=\"width: 20px; height: 20px; background-color: black; border: 1px solid gray; text-align: center; vertical-align: middle; font-family: Arial; font-size: 0px; color: black;\"></td><td style=\"width: 20px; height: 20px; background-color: white; border: 1px solid gray; text-align: center; vertical-align: middle; font-family: Arial; font-size: 15px; color: black;\">0</td><td style=\"width: 20px; height: 20px; background-color: white; border: 1px solid gray; text-align: center; vertical-align: middle; font-family: Arial; font-size: 15px; color: black;\">0</td><td style=\"width: 20px; height: 20px; background-color: white; border: 1px solid gray; text-align: center; vertical-align: middle; font-family: Arial; font-size: 15px; color: black;\">0</td><td style=\"width: 20px; height: 20px; background-color: white; border: 1px solid gray; text-align: center; vertical-align: middle; font-family: Arial; font-size: 15px; color: black;\">0</td><td style=\"width: 20px; height: 20px; background-color: white; border: 1px solid gray; text-align: center; vertical-align: middle; font-family: Arial; font-size: 15px; color: black;\">0</td><td style=\"width: 20px; height: 20px; background-color: black; border: 1px solid gray; text-align: center; vertical-align: middle; font-family: Arial; font-size: 0px; color: black;\"></td><td style=\"width: 20px; height: 20px; background-color: white; border: 1px solid gray; text-align: center; vertical-align: middle; font-family: Arial; font-size: 15px; color: black;\">0</td><td style=\"width: 20px; height: 20px; background-color: white; border: 1px solid gray; text-align: center; vertical-align: middle; font-family: Arial; font-size: 15px; color: black;\">0</td><td style=\"width: 20px; height: 20px; background-color: white; border: 1px solid gray; text-align: center; vertical-align: middle; font-family: Arial; font-size: 15px; color: black;\">0</td><td style=\"width: 20px; height: 20px; background-color: black; border: 1px solid gray; text-align: center; vertical-align: middle; font-family: Arial; font-size: 0px; color: black;\"></td><td style=\"width: 20px; height: 20px; background-color: white; border: 1px solid gray; text-align: center; vertical-align: middle; font-family: Arial; font-size: 15px; color: black;\">4</td></tr><tr><td style=\"width: 20px; height: 20px; background-color: black; border: 1px solid gray; text-align: center; vertical-align: middle; font-family: Arial; font-size: 0px; color: black;\"></td><td style=\"width: 20px; height: 20px; background-color: black; border: 1px solid gray; text-align: center; vertical-align: middle; font-family: Arial; font-size: 0px; color: black;\"></td><td style=\"width: 20px; height: 20px; background-color: white; border: 1px solid gray; text-align: center; vertical-align: middle; font-family: Arial; font-size: 15px; color: black;\">0</td><td style=\"width: 20px; height: 20px; background-color: black; border: 1px solid gray; text-align: center; vertical-align: middle; font-family: Arial; font-size: 0px; color: black;\"></td><td style=\"width: 20px; height: 20px; background-color: black; border: 1px solid gray; text-align: center; vertical-align: middle; font-family: Arial; font-size: 0px; color: black;\"></td><td style=\"width: 20px; height: 20px; background-color: black; border: 1px solid gray; text-align: center; vertical-align: middle; font-family: Arial; font-size: 0px; color: black;\"></td><td style=\"width: 20px; height: 20px; background-color: black; border: 1px solid gray; text-align: center; vertical-align: middle; font-family: Arial; font-size: 0px; color: black;\"></td><td style=\"width: 20px; height: 20px; background-color: black; border: 1px solid gray; text-align: center; vertical-align: middle; font-family: Arial; font-size: 0px; color: black;\"></td><td style=\"width: 20px; height: 20px; background-color: white; border: 1px solid gray; text-align: center; vertical-align: middle; font-family: Arial; font-size: 15px; color: black;\">0</td><td style=\"width: 20px; height: 20px; background-color: black; border: 1px solid gray; text-align: center; vertical-align: middle; font-family: Arial; font-size: 0px; color: black;\"></td><td style=\"width: 20px; height: 20px; background-color: black; border: 1px solid gray; text-align: center; vertical-align: middle; font-family: Arial; font-size: 0px; color: black;\"></td><td style=\"width: 20px; height: 20px; background-color: black; border: 1px solid gray; text-align: center; vertical-align: middle; font-family: Arial; font-size: 0px; color: black;\"></td><td style=\"width: 20px; height: 20px; background-color: white; border: 1px solid gray; text-align: center; vertical-align: middle; font-family: Arial; font-size: 15px; color: black;\">0</td><td style=\"width: 20px; height: 20px; background-color: black; border: 1px solid gray; text-align: center; vertical-align: middle; font-family: Arial; font-size: 0px; color: black;\"></td><td style=\"width: 20px; height: 20px; background-color: white; border: 1px solid gray; text-align: center; vertical-align: middle; font-family: Arial; font-size: 15px; color: black;\">3</td></tr><tr><td style=\"width: 20px; height: 20px; background-color: white; border: 1px solid gray; text-align: center; vertical-align: middle; font-family: Arial; font-size: 15px; color: black;\">0</td><td style=\"width: 20px; height: 20px; background-color: white; border: 1px solid gray; text-align: center; vertical-align: middle; font-family: Arial; font-size: 15px; color: black;\">0</td><td style=\"width: 20px; height: 20px; background-color: white; border: 1px solid gray; text-align: center; vertical-align: middle; font-family: Arial; font-size: 15px; color: black;\">0</td><td style=\"width: 20px; height: 20px; background-color: white; border: 1px solid gray; text-align: center; vertical-align: middle; font-family: Arial; font-size: 15px; color: black;\">0</td><td style=\"width: 20px; height: 20px; background-color: white; border: 1px solid gray; text-align: center; vertical-align: middle; font-family: Arial; font-size: 15px; color: black;\">0</td><td style=\"width: 20px; height: 20px; background-color: white; border: 1px solid gray; text-align: center; vertical-align: middle; font-family: Arial; font-size: 15px; color: black;\">0</td><td style=\"width: 20px; height: 20px; background-color: white; border: 1px solid gray; text-align: center; vertical-align: middle; font-family: Arial; font-size: 15px; color: black;\">0</td><td style=\"width: 20px; height: 20px; background-color: white; border: 1px solid gray; text-align: center; vertical-align: middle; font-family: Arial; font-size: 15px; color: black;\">0</td><td style=\"width: 20px; height: 20px; background-color: white; border: 1px solid gray; text-align: center; vertical-align: middle; font-family: Arial; font-size: 15px; color: black;\">0</td><td style=\"width: 20px; height: 20px; background-color: white; border: 1px solid gray; text-align: center; vertical-align: middle; font-family: Arial; font-size: 15px; color: black;\">0</td><td style=\"width: 20px; height: 20px; background-color: white; border: 1px solid gray; text-align: center; vertical-align: middle; font-family: Arial; font-size: 15px; color: black;\">0</td><td style=\"width: 20px; height: 20px; background-color: black; border: 1px solid gray; text-align: center; vertical-align: middle; font-family: Arial; font-size: 0px; color: black;\"></td><td style=\"width: 20px; height: 20px; background-color: white; border: 1px solid gray; text-align: center; vertical-align: middle; font-family: Arial; font-size: 15px; color: black;\">0</td><td style=\"width: 20px; height: 20px; background-color: black; border: 1px solid gray; text-align: center; vertical-align: middle; font-family: Arial; font-size: 0px; color: black;\"></td><td style=\"width: 20px; height: 20px; background-color: white; border: 1px solid gray; text-align: center; vertical-align: middle; font-family: Arial; font-size: 15px; color: black;\">2</td></tr><tr><td style=\"width: 20px; height: 20px; background-color: white; border: 1px solid gray; text-align: center; vertical-align: middle; font-family: Arial; font-size: 15px; color: black;\">0</td><td style=\"width: 20px; height: 20px; background-color: black; border: 1px solid gray; text-align: center; vertical-align: middle; font-family: Arial; font-size: 0px; color: black;\"></td><td style=\"width: 20px; height: 20px; background-color: black; border: 1px solid gray; text-align: center; vertical-align: middle; font-family: Arial; font-size: 0px; color: black;\"></td><td style=\"width: 20px; height: 20px; background-color: black; border: 1px solid gray; text-align: center; vertical-align: middle; font-family: Arial; font-size: 0px; color: black;\"></td><td style=\"width: 20px; height: 20px; background-color: black; border: 1px solid gray; text-align: center; vertical-align: middle; font-family: Arial; font-size: 0px; color: black;\"></td><td style=\"width: 20px; height: 20px; background-color: black; border: 1px solid gray; text-align: center; vertical-align: middle; font-family: Arial; font-size: 0px; color: black;\"></td><td style=\"width: 20px; height: 20px; background-color: black; border: 1px solid gray; text-align: center; vertical-align: middle; font-family: Arial; font-size: 0px; color: black;\"></td><td style=\"width: 20px; height: 20px; background-color: black; border: 1px solid gray; text-align: center; vertical-align: middle; font-family: Arial; font-size: 0px; color: black;\"></td><td style=\"width: 20px; height: 20px; background-color: black; border: 1px solid gray; text-align: center; vertical-align: middle; font-family: Arial; font-size: 0px; color: black;\"></td><td style=\"width: 20px; height: 20px; background-color: black; border: 1px solid gray; text-align: center; vertical-align: middle; font-family: Arial; font-size: 0px; color: black;\"></td><td style=\"width: 20px; height: 20px; background-color: white; border: 1px solid gray; text-align: center; vertical-align: middle; font-family: Arial; font-size: 15px; color: black;\">0</td><td style=\"width: 20px; height: 20px; background-color: black; border: 1px solid gray; text-align: center; vertical-align: middle; font-family: Arial; font-size: 0px; color: black;\"></td><td style=\"width: 20px; height: 20px; background-color: white; border: 1px solid gray; text-align: center; vertical-align: middle; font-family: Arial; font-size: 15px; color: black;\">0</td><td style=\"width: 20px; height: 20px; background-color: black; border: 1px solid gray; text-align: center; vertical-align: middle; font-family: Arial; font-size: 0px; color: black;\"></td><td style=\"width: 20px; height: 20px; background-color: white; border: 1px solid gray; text-align: center; vertical-align: middle; font-family: Arial; font-size: 15px; color: black;\">1</td></tr><tr><td style=\"width: 20px; height: 20px; background-color: white; border: 1px solid gray; text-align: center; vertical-align: middle; font-family: Arial; font-size: 15px; color: black;\">0</td><td style=\"width: 20px; height: 20px; background-color: white; border: 1px solid gray; text-align: center; vertical-align: middle; font-family: Arial; font-size: 15px; color: black;\">0</td><td style=\"width: 20px; height: 20px; background-color: white; border: 1px solid gray; text-align: center; vertical-align: middle; font-family: Arial; font-size: 15px; color: black;\">0</td><td style=\"width: 20px; height: 20px; background-color: white; border: 1px solid gray; text-align: center; vertical-align: middle; font-family: Arial; font-size: 15px; color: black;\">0</td><td style=\"width: 20px; height: 20px; background-color: white; border: 1px solid gray; text-align: center; vertical-align: middle; font-family: Arial; font-size: 15px; color: black;\">0</td><td style=\"width: 20px; height: 20px; background-color: white; border: 1px solid gray; text-align: center; vertical-align: middle; font-family: Arial; font-size: 15px; color: black;\">0</td><td style=\"width: 20px; height: 20px; background-color: white; border: 1px solid gray; text-align: center; vertical-align: middle; font-family: Arial; font-size: 15px; color: black;\">0</td><td style=\"width: 20px; height: 20px; background-color: white; border: 1px solid gray; text-align: center; vertical-align: middle; font-family: Arial; font-size: 15px; color: black;\">0</td><td style=\"width: 20px; height: 20px; background-color: white; border: 1px solid gray; text-align: center; vertical-align: middle; font-family: Arial; font-size: 15px; color: black;\">0</td><td style=\"width: 20px; height: 20px; background-color: white; border: 1px solid gray; text-align: center; vertical-align: middle; font-family: Arial; font-size: 15px; color: black;\">0</td><td style=\"width: 20px; height: 20px; background-color: white; border: 1px solid gray; text-align: center; vertical-align: middle; font-family: Arial; font-size: 15px; color: black;\">0</td><td style=\"width: 20px; height: 20px; background-color: white; border: 1px solid gray; text-align: center; vertical-align: middle; font-family: Arial; font-size: 15px; color: black;\">0</td><td style=\"width: 20px; height: 20px; background-color: white; border: 1px solid gray; text-align: center; vertical-align: middle; font-family: Arial; font-size: 15px; color: black;\">0</td><td style=\"width: 20px; height: 20px; background-color: white; border: 1px solid gray; text-align: center; vertical-align: middle; font-family: Arial; font-size: 15px; color: black;\">0</td><td style=\"width: 20px; height: 20px; background-color: white; border: 1px solid gray; text-align: center; vertical-align: middle; font-family: Arial; font-size: 15px; color: black;\">0</td></tr></table>"
            ]
          },
          "metadata": {}
        }
      ]
    },
    {
      "cell_type": "code",
      "source": [
        "#8 PUZZLE PROBLEM\n",
        "# Define goal state\n",
        "GOAL_STATE = [[1, 2, 3], [4, 5, 6], [7, 8, 0]]\n",
        "MOVES = {\"UP\": (-1, 0), \"DOWN\": (1, 0), \"LEFT\": (0, -1), \"RIGHT\": (0, 1)}\n"
      ],
      "metadata": {
        "id": "ybSNiFNbkZu5"
      },
      "execution_count": 64,
      "outputs": []
    },
    {
      "cell_type": "code",
      "source": [
        "def display_colored_grid(grid):\n",
        "    html = '<table style=\"border-collapse: collapse;\">'\n",
        "    for row in grid:\n",
        "        html += '<tr>'\n",
        "        for cell in row:\n",
        "            html += f'''<td style=\"width: 30px; height: 30px; background-color: white;\n",
        "                         border: 1px solid gray; text-align: center; vertical-align: middle;\n",
        "                         font-family: Arial; font-size: 12px;\">{cell}</td>'''\n",
        "        html += '</tr>'\n",
        "    html += '</table>'\n",
        "    display(HTML(html))"
      ],
      "metadata": {
        "id": "54_vOU3kHOHQ"
      },
      "execution_count": 38,
      "outputs": []
    },
    {
      "cell_type": "code",
      "source": [
        "def validate_cell(cell):\n",
        "    x, y = cell\n",
        "    return 0 <= x <= 2 and 0 <= y <= 2\n",
        "\n",
        "def randomize_grid(grid, zero, moves=20):\n",
        "    directions = list(MOVES.values())\n",
        "    for _ in range(moves):\n",
        "        random.shuffle(directions)\n",
        "        for direction in directions:\n",
        "            new_cell = (zero[0] + direction[0], zero[1] + direction[1])\n",
        "            if validate_cell(new_cell):\n",
        "                x, y = zero\n",
        "                new_x, new_y = new_cell\n",
        "                grid[x][y], grid[new_x][new_y] = grid[new_x][new_y], grid[x][y]\n",
        "                zero = new_cell\n",
        "                break\n",
        "    return zero\n"
      ],
      "metadata": {
        "id": "ppuu19evHR43"
      },
      "execution_count": 56,
      "outputs": []
    },
    {
      "cell_type": "code",
      "source": [
        "class PuzzleState:\n",
        "    def __init__(self, grid, zero_pos, g, parent=None):\n",
        "        self.grid = grid\n",
        "        self.zero_pos = zero_pos\n",
        "        self.g = g\n",
        "        self.parent = parent\n",
        "\n",
        "    def __lt__(self, other):\n",
        "        return (self.g + self.heuristic()) < (other.g + other.heuristic())\n",
        "\n",
        "    def heuristic(self):\n",
        "        distance = 0\n",
        "        for r in range(3):\n",
        "            for c in range(3):\n",
        "                value = self.grid[r][c]\n",
        "                if value != 0:\n",
        "                    goal_r, goal_c = divmod(value - 1, 3)\n",
        "                    distance += abs(goal_r - r) + abs(goal_c - c)\n",
        "        return distance\n",
        "\n",
        "    def is_goal(self):\n",
        "        return self.grid == GOAL_STATE\n",
        "\n",
        "    def get_next_states(self):\n",
        "        next_states = []\n",
        "        x, y = self.zero_pos\n",
        "        for move, (dx, dy) in MOVES.items():\n",
        "            new_x, new_y = x + dx, y + dy\n",
        "            if 0 <= new_x < 3 and 0 <= new_y < 3:\n",
        "                new_grid = [row[:] for row in self.grid]\n",
        "                new_grid[x][y], new_grid[new_x][new_y] = new_grid[new_x][new_y], new_grid[x][y]\n",
        "                next_states.append(PuzzleState(new_grid, (new_x, new_y), self.g + 1, self))\n",
        "        return next_states\n",
        ""
      ],
      "metadata": {
        "id": "fokXR7wQHUjB"
      },
      "execution_count": 68,
      "outputs": []
    },
    {
      "cell_type": "code",
      "source": [
        "def solve_puzzle(initial_grid):\n",
        "    zero_pos = next((r, c) for r in range(3) for c in range(3) if initial_grid[r][c] == 0)\n",
        "    start_state = PuzzleState(initial_grid, zero_pos, 0)\n",
        "    open_set = []\n",
        "    heapq.heappush(open_set, start_state)\n",
        "    visited = set()\n",
        "    visited.add(tuple(map(tuple, start_state.grid)))\n",
        "\n",
        "    while open_set:\n",
        "        current = heapq.heappop(open_set)\n",
        "        if current.is_goal():\n",
        "            path = []\n",
        "            while current:\n",
        "                path.append(current.grid)\n",
        "                current = current.parent\n",
        "            return path[::-1]\n",
        "\n",
        "        for next_state in current.get_next_states():\n",
        "            grid_tuple = tuple(map(tuple, next_state.grid))\n",
        "            if grid_tuple not in visited:\n",
        "                heapq.heappush(open_set, next_state)\n",
        "                visited.add(grid_tuple)\n",
        "    return None\n"
      ],
      "metadata": {
        "id": "YQAUFvadHfde"
      },
      "execution_count": 45,
      "outputs": []
    },
    {
      "cell_type": "code",
      "source": [
        "# Example: Initial state\n",
        "grid = [[1, 2, 3], [4, 0, 5], [6, 7, 8]]\n",
        "zero = (1, 1)\n",
        "zero = randomize_grid(grid, zero)\n",
        "display_colored_grid(grid)\n"
      ],
      "metadata": {
        "colab": {
          "base_uri": "https://localhost:8080/",
          "height": 116
        },
        "id": "J8KV5QDNHi4B",
        "outputId": "b304de4f-57b2-414f-936d-2beb58a96a49"
      },
      "execution_count": 58,
      "outputs": [
        {
          "output_type": "display_data",
          "data": {
            "text/plain": [
              "<IPython.core.display.HTML object>"
            ],
            "text/html": [
              "<table style=\"border-collapse: collapse;\"><tr><td style=\"width: 30px; height: 30px; background-color: white;\n",
              "                         border: 1px solid gray; text-align: center; vertical-align: middle;\n",
              "                         font-family: Arial; font-size: 12px;\">1</td><td style=\"width: 30px; height: 30px; background-color: white;\n",
              "                         border: 1px solid gray; text-align: center; vertical-align: middle;\n",
              "                         font-family: Arial; font-size: 12px;\">2</td><td style=\"width: 30px; height: 30px; background-color: white;\n",
              "                         border: 1px solid gray; text-align: center; vertical-align: middle;\n",
              "                         font-family: Arial; font-size: 12px;\">3</td></tr><tr><td style=\"width: 30px; height: 30px; background-color: white;\n",
              "                         border: 1px solid gray; text-align: center; vertical-align: middle;\n",
              "                         font-family: Arial; font-size: 12px;\">4</td><td style=\"width: 30px; height: 30px; background-color: white;\n",
              "                         border: 1px solid gray; text-align: center; vertical-align: middle;\n",
              "                         font-family: Arial; font-size: 12px;\">0</td><td style=\"width: 30px; height: 30px; background-color: white;\n",
              "                         border: 1px solid gray; text-align: center; vertical-align: middle;\n",
              "                         font-family: Arial; font-size: 12px;\">7</td></tr><tr><td style=\"width: 30px; height: 30px; background-color: white;\n",
              "                         border: 1px solid gray; text-align: center; vertical-align: middle;\n",
              "                         font-family: Arial; font-size: 12px;\">6</td><td style=\"width: 30px; height: 30px; background-color: white;\n",
              "                         border: 1px solid gray; text-align: center; vertical-align: middle;\n",
              "                         font-family: Arial; font-size: 12px;\">8</td><td style=\"width: 30px; height: 30px; background-color: white;\n",
              "                         border: 1px solid gray; text-align: center; vertical-align: middle;\n",
              "                         font-family: Arial; font-size: 12px;\">5</td></tr></table>"
            ]
          },
          "metadata": {}
        }
      ]
    },
    {
      "cell_type": "code",
      "source": [
        "# Solve the puzzle\n",
        "solution_path = solve_puzzle(grid)\n",
        "if solution_path:\n",
        "    for step, state in enumerate(solution_path):\n",
        "        print(f\"Step {step}:\")\n",
        "        display_colored_grid(state)\n",
        "        print(\"\\n\")\n",
        "else:\n",
        "    print(\"No solution found!\")\n"
      ],
      "metadata": {
        "colab": {
          "base_uri": "https://localhost:8080/",
          "height": 1000
        },
        "id": "jlp3sPffHlqT",
        "outputId": "184a9564-0498-4405-a760-69fd879ecba9"
      },
      "execution_count": 69,
      "outputs": [
        {
          "output_type": "stream",
          "name": "stdout",
          "text": [
            "Step 0:\n"
          ]
        },
        {
          "output_type": "display_data",
          "data": {
            "text/plain": [
              "<IPython.core.display.HTML object>"
            ],
            "text/html": [
              "<table style=\"border-collapse: collapse;\"><tr><td style=\"width: 30px; height: 30px; background-color: white;\n",
              "                         border: 1px solid gray; text-align: center; vertical-align: middle;\n",
              "                         font-family: Arial; font-size: 12px;\">1</td><td style=\"width: 30px; height: 30px; background-color: white;\n",
              "                         border: 1px solid gray; text-align: center; vertical-align: middle;\n",
              "                         font-family: Arial; font-size: 12px;\">2</td><td style=\"width: 30px; height: 30px; background-color: white;\n",
              "                         border: 1px solid gray; text-align: center; vertical-align: middle;\n",
              "                         font-family: Arial; font-size: 12px;\">3</td></tr><tr><td style=\"width: 30px; height: 30px; background-color: white;\n",
              "                         border: 1px solid gray; text-align: center; vertical-align: middle;\n",
              "                         font-family: Arial; font-size: 12px;\">4</td><td style=\"width: 30px; height: 30px; background-color: white;\n",
              "                         border: 1px solid gray; text-align: center; vertical-align: middle;\n",
              "                         font-family: Arial; font-size: 12px;\">0</td><td style=\"width: 30px; height: 30px; background-color: white;\n",
              "                         border: 1px solid gray; text-align: center; vertical-align: middle;\n",
              "                         font-family: Arial; font-size: 12px;\">7</td></tr><tr><td style=\"width: 30px; height: 30px; background-color: white;\n",
              "                         border: 1px solid gray; text-align: center; vertical-align: middle;\n",
              "                         font-family: Arial; font-size: 12px;\">6</td><td style=\"width: 30px; height: 30px; background-color: white;\n",
              "                         border: 1px solid gray; text-align: center; vertical-align: middle;\n",
              "                         font-family: Arial; font-size: 12px;\">8</td><td style=\"width: 30px; height: 30px; background-color: white;\n",
              "                         border: 1px solid gray; text-align: center; vertical-align: middle;\n",
              "                         font-family: Arial; font-size: 12px;\">5</td></tr></table>"
            ]
          },
          "metadata": {}
        },
        {
          "output_type": "stream",
          "name": "stdout",
          "text": [
            "\n",
            "\n",
            "Step 1:\n"
          ]
        },
        {
          "output_type": "display_data",
          "data": {
            "text/plain": [
              "<IPython.core.display.HTML object>"
            ],
            "text/html": [
              "<table style=\"border-collapse: collapse;\"><tr><td style=\"width: 30px; height: 30px; background-color: white;\n",
              "                         border: 1px solid gray; text-align: center; vertical-align: middle;\n",
              "                         font-family: Arial; font-size: 12px;\">1</td><td style=\"width: 30px; height: 30px; background-color: white;\n",
              "                         border: 1px solid gray; text-align: center; vertical-align: middle;\n",
              "                         font-family: Arial; font-size: 12px;\">2</td><td style=\"width: 30px; height: 30px; background-color: white;\n",
              "                         border: 1px solid gray; text-align: center; vertical-align: middle;\n",
              "                         font-family: Arial; font-size: 12px;\">3</td></tr><tr><td style=\"width: 30px; height: 30px; background-color: white;\n",
              "                         border: 1px solid gray; text-align: center; vertical-align: middle;\n",
              "                         font-family: Arial; font-size: 12px;\">4</td><td style=\"width: 30px; height: 30px; background-color: white;\n",
              "                         border: 1px solid gray; text-align: center; vertical-align: middle;\n",
              "                         font-family: Arial; font-size: 12px;\">8</td><td style=\"width: 30px; height: 30px; background-color: white;\n",
              "                         border: 1px solid gray; text-align: center; vertical-align: middle;\n",
              "                         font-family: Arial; font-size: 12px;\">7</td></tr><tr><td style=\"width: 30px; height: 30px; background-color: white;\n",
              "                         border: 1px solid gray; text-align: center; vertical-align: middle;\n",
              "                         font-family: Arial; font-size: 12px;\">6</td><td style=\"width: 30px; height: 30px; background-color: white;\n",
              "                         border: 1px solid gray; text-align: center; vertical-align: middle;\n",
              "                         font-family: Arial; font-size: 12px;\">0</td><td style=\"width: 30px; height: 30px; background-color: white;\n",
              "                         border: 1px solid gray; text-align: center; vertical-align: middle;\n",
              "                         font-family: Arial; font-size: 12px;\">5</td></tr></table>"
            ]
          },
          "metadata": {}
        },
        {
          "output_type": "stream",
          "name": "stdout",
          "text": [
            "\n",
            "\n",
            "Step 2:\n"
          ]
        },
        {
          "output_type": "display_data",
          "data": {
            "text/plain": [
              "<IPython.core.display.HTML object>"
            ],
            "text/html": [
              "<table style=\"border-collapse: collapse;\"><tr><td style=\"width: 30px; height: 30px; background-color: white;\n",
              "                         border: 1px solid gray; text-align: center; vertical-align: middle;\n",
              "                         font-family: Arial; font-size: 12px;\">1</td><td style=\"width: 30px; height: 30px; background-color: white;\n",
              "                         border: 1px solid gray; text-align: center; vertical-align: middle;\n",
              "                         font-family: Arial; font-size: 12px;\">2</td><td style=\"width: 30px; height: 30px; background-color: white;\n",
              "                         border: 1px solid gray; text-align: center; vertical-align: middle;\n",
              "                         font-family: Arial; font-size: 12px;\">3</td></tr><tr><td style=\"width: 30px; height: 30px; background-color: white;\n",
              "                         border: 1px solid gray; text-align: center; vertical-align: middle;\n",
              "                         font-family: Arial; font-size: 12px;\">4</td><td style=\"width: 30px; height: 30px; background-color: white;\n",
              "                         border: 1px solid gray; text-align: center; vertical-align: middle;\n",
              "                         font-family: Arial; font-size: 12px;\">8</td><td style=\"width: 30px; height: 30px; background-color: white;\n",
              "                         border: 1px solid gray; text-align: center; vertical-align: middle;\n",
              "                         font-family: Arial; font-size: 12px;\">7</td></tr><tr><td style=\"width: 30px; height: 30px; background-color: white;\n",
              "                         border: 1px solid gray; text-align: center; vertical-align: middle;\n",
              "                         font-family: Arial; font-size: 12px;\">0</td><td style=\"width: 30px; height: 30px; background-color: white;\n",
              "                         border: 1px solid gray; text-align: center; vertical-align: middle;\n",
              "                         font-family: Arial; font-size: 12px;\">6</td><td style=\"width: 30px; height: 30px; background-color: white;\n",
              "                         border: 1px solid gray; text-align: center; vertical-align: middle;\n",
              "                         font-family: Arial; font-size: 12px;\">5</td></tr></table>"
            ]
          },
          "metadata": {}
        },
        {
          "output_type": "stream",
          "name": "stdout",
          "text": [
            "\n",
            "\n",
            "Step 3:\n"
          ]
        },
        {
          "output_type": "display_data",
          "data": {
            "text/plain": [
              "<IPython.core.display.HTML object>"
            ],
            "text/html": [
              "<table style=\"border-collapse: collapse;\"><tr><td style=\"width: 30px; height: 30px; background-color: white;\n",
              "                         border: 1px solid gray; text-align: center; vertical-align: middle;\n",
              "                         font-family: Arial; font-size: 12px;\">1</td><td style=\"width: 30px; height: 30px; background-color: white;\n",
              "                         border: 1px solid gray; text-align: center; vertical-align: middle;\n",
              "                         font-family: Arial; font-size: 12px;\">2</td><td style=\"width: 30px; height: 30px; background-color: white;\n",
              "                         border: 1px solid gray; text-align: center; vertical-align: middle;\n",
              "                         font-family: Arial; font-size: 12px;\">3</td></tr><tr><td style=\"width: 30px; height: 30px; background-color: white;\n",
              "                         border: 1px solid gray; text-align: center; vertical-align: middle;\n",
              "                         font-family: Arial; font-size: 12px;\">0</td><td style=\"width: 30px; height: 30px; background-color: white;\n",
              "                         border: 1px solid gray; text-align: center; vertical-align: middle;\n",
              "                         font-family: Arial; font-size: 12px;\">8</td><td style=\"width: 30px; height: 30px; background-color: white;\n",
              "                         border: 1px solid gray; text-align: center; vertical-align: middle;\n",
              "                         font-family: Arial; font-size: 12px;\">7</td></tr><tr><td style=\"width: 30px; height: 30px; background-color: white;\n",
              "                         border: 1px solid gray; text-align: center; vertical-align: middle;\n",
              "                         font-family: Arial; font-size: 12px;\">4</td><td style=\"width: 30px; height: 30px; background-color: white;\n",
              "                         border: 1px solid gray; text-align: center; vertical-align: middle;\n",
              "                         font-family: Arial; font-size: 12px;\">6</td><td style=\"width: 30px; height: 30px; background-color: white;\n",
              "                         border: 1px solid gray; text-align: center; vertical-align: middle;\n",
              "                         font-family: Arial; font-size: 12px;\">5</td></tr></table>"
            ]
          },
          "metadata": {}
        },
        {
          "output_type": "stream",
          "name": "stdout",
          "text": [
            "\n",
            "\n",
            "Step 4:\n"
          ]
        },
        {
          "output_type": "display_data",
          "data": {
            "text/plain": [
              "<IPython.core.display.HTML object>"
            ],
            "text/html": [
              "<table style=\"border-collapse: collapse;\"><tr><td style=\"width: 30px; height: 30px; background-color: white;\n",
              "                         border: 1px solid gray; text-align: center; vertical-align: middle;\n",
              "                         font-family: Arial; font-size: 12px;\">1</td><td style=\"width: 30px; height: 30px; background-color: white;\n",
              "                         border: 1px solid gray; text-align: center; vertical-align: middle;\n",
              "                         font-family: Arial; font-size: 12px;\">2</td><td style=\"width: 30px; height: 30px; background-color: white;\n",
              "                         border: 1px solid gray; text-align: center; vertical-align: middle;\n",
              "                         font-family: Arial; font-size: 12px;\">3</td></tr><tr><td style=\"width: 30px; height: 30px; background-color: white;\n",
              "                         border: 1px solid gray; text-align: center; vertical-align: middle;\n",
              "                         font-family: Arial; font-size: 12px;\">8</td><td style=\"width: 30px; height: 30px; background-color: white;\n",
              "                         border: 1px solid gray; text-align: center; vertical-align: middle;\n",
              "                         font-family: Arial; font-size: 12px;\">0</td><td style=\"width: 30px; height: 30px; background-color: white;\n",
              "                         border: 1px solid gray; text-align: center; vertical-align: middle;\n",
              "                         font-family: Arial; font-size: 12px;\">7</td></tr><tr><td style=\"width: 30px; height: 30px; background-color: white;\n",
              "                         border: 1px solid gray; text-align: center; vertical-align: middle;\n",
              "                         font-family: Arial; font-size: 12px;\">4</td><td style=\"width: 30px; height: 30px; background-color: white;\n",
              "                         border: 1px solid gray; text-align: center; vertical-align: middle;\n",
              "                         font-family: Arial; font-size: 12px;\">6</td><td style=\"width: 30px; height: 30px; background-color: white;\n",
              "                         border: 1px solid gray; text-align: center; vertical-align: middle;\n",
              "                         font-family: Arial; font-size: 12px;\">5</td></tr></table>"
            ]
          },
          "metadata": {}
        },
        {
          "output_type": "stream",
          "name": "stdout",
          "text": [
            "\n",
            "\n",
            "Step 5:\n"
          ]
        },
        {
          "output_type": "display_data",
          "data": {
            "text/plain": [
              "<IPython.core.display.HTML object>"
            ],
            "text/html": [
              "<table style=\"border-collapse: collapse;\"><tr><td style=\"width: 30px; height: 30px; background-color: white;\n",
              "                         border: 1px solid gray; text-align: center; vertical-align: middle;\n",
              "                         font-family: Arial; font-size: 12px;\">1</td><td style=\"width: 30px; height: 30px; background-color: white;\n",
              "                         border: 1px solid gray; text-align: center; vertical-align: middle;\n",
              "                         font-family: Arial; font-size: 12px;\">2</td><td style=\"width: 30px; height: 30px; background-color: white;\n",
              "                         border: 1px solid gray; text-align: center; vertical-align: middle;\n",
              "                         font-family: Arial; font-size: 12px;\">3</td></tr><tr><td style=\"width: 30px; height: 30px; background-color: white;\n",
              "                         border: 1px solid gray; text-align: center; vertical-align: middle;\n",
              "                         font-family: Arial; font-size: 12px;\">8</td><td style=\"width: 30px; height: 30px; background-color: white;\n",
              "                         border: 1px solid gray; text-align: center; vertical-align: middle;\n",
              "                         font-family: Arial; font-size: 12px;\">7</td><td style=\"width: 30px; height: 30px; background-color: white;\n",
              "                         border: 1px solid gray; text-align: center; vertical-align: middle;\n",
              "                         font-family: Arial; font-size: 12px;\">0</td></tr><tr><td style=\"width: 30px; height: 30px; background-color: white;\n",
              "                         border: 1px solid gray; text-align: center; vertical-align: middle;\n",
              "                         font-family: Arial; font-size: 12px;\">4</td><td style=\"width: 30px; height: 30px; background-color: white;\n",
              "                         border: 1px solid gray; text-align: center; vertical-align: middle;\n",
              "                         font-family: Arial; font-size: 12px;\">6</td><td style=\"width: 30px; height: 30px; background-color: white;\n",
              "                         border: 1px solid gray; text-align: center; vertical-align: middle;\n",
              "                         font-family: Arial; font-size: 12px;\">5</td></tr></table>"
            ]
          },
          "metadata": {}
        },
        {
          "output_type": "stream",
          "name": "stdout",
          "text": [
            "\n",
            "\n",
            "Step 6:\n"
          ]
        },
        {
          "output_type": "display_data",
          "data": {
            "text/plain": [
              "<IPython.core.display.HTML object>"
            ],
            "text/html": [
              "<table style=\"border-collapse: collapse;\"><tr><td style=\"width: 30px; height: 30px; background-color: white;\n",
              "                         border: 1px solid gray; text-align: center; vertical-align: middle;\n",
              "                         font-family: Arial; font-size: 12px;\">1</td><td style=\"width: 30px; height: 30px; background-color: white;\n",
              "                         border: 1px solid gray; text-align: center; vertical-align: middle;\n",
              "                         font-family: Arial; font-size: 12px;\">2</td><td style=\"width: 30px; height: 30px; background-color: white;\n",
              "                         border: 1px solid gray; text-align: center; vertical-align: middle;\n",
              "                         font-family: Arial; font-size: 12px;\">3</td></tr><tr><td style=\"width: 30px; height: 30px; background-color: white;\n",
              "                         border: 1px solid gray; text-align: center; vertical-align: middle;\n",
              "                         font-family: Arial; font-size: 12px;\">8</td><td style=\"width: 30px; height: 30px; background-color: white;\n",
              "                         border: 1px solid gray; text-align: center; vertical-align: middle;\n",
              "                         font-family: Arial; font-size: 12px;\">7</td><td style=\"width: 30px; height: 30px; background-color: white;\n",
              "                         border: 1px solid gray; text-align: center; vertical-align: middle;\n",
              "                         font-family: Arial; font-size: 12px;\">5</td></tr><tr><td style=\"width: 30px; height: 30px; background-color: white;\n",
              "                         border: 1px solid gray; text-align: center; vertical-align: middle;\n",
              "                         font-family: Arial; font-size: 12px;\">4</td><td style=\"width: 30px; height: 30px; background-color: white;\n",
              "                         border: 1px solid gray; text-align: center; vertical-align: middle;\n",
              "                         font-family: Arial; font-size: 12px;\">6</td><td style=\"width: 30px; height: 30px; background-color: white;\n",
              "                         border: 1px solid gray; text-align: center; vertical-align: middle;\n",
              "                         font-family: Arial; font-size: 12px;\">0</td></tr></table>"
            ]
          },
          "metadata": {}
        },
        {
          "output_type": "stream",
          "name": "stdout",
          "text": [
            "\n",
            "\n",
            "Step 7:\n"
          ]
        },
        {
          "output_type": "display_data",
          "data": {
            "text/plain": [
              "<IPython.core.display.HTML object>"
            ],
            "text/html": [
              "<table style=\"border-collapse: collapse;\"><tr><td style=\"width: 30px; height: 30px; background-color: white;\n",
              "                         border: 1px solid gray; text-align: center; vertical-align: middle;\n",
              "                         font-family: Arial; font-size: 12px;\">1</td><td style=\"width: 30px; height: 30px; background-color: white;\n",
              "                         border: 1px solid gray; text-align: center; vertical-align: middle;\n",
              "                         font-family: Arial; font-size: 12px;\">2</td><td style=\"width: 30px; height: 30px; background-color: white;\n",
              "                         border: 1px solid gray; text-align: center; vertical-align: middle;\n",
              "                         font-family: Arial; font-size: 12px;\">3</td></tr><tr><td style=\"width: 30px; height: 30px; background-color: white;\n",
              "                         border: 1px solid gray; text-align: center; vertical-align: middle;\n",
              "                         font-family: Arial; font-size: 12px;\">8</td><td style=\"width: 30px; height: 30px; background-color: white;\n",
              "                         border: 1px solid gray; text-align: center; vertical-align: middle;\n",
              "                         font-family: Arial; font-size: 12px;\">7</td><td style=\"width: 30px; height: 30px; background-color: white;\n",
              "                         border: 1px solid gray; text-align: center; vertical-align: middle;\n",
              "                         font-family: Arial; font-size: 12px;\">5</td></tr><tr><td style=\"width: 30px; height: 30px; background-color: white;\n",
              "                         border: 1px solid gray; text-align: center; vertical-align: middle;\n",
              "                         font-family: Arial; font-size: 12px;\">4</td><td style=\"width: 30px; height: 30px; background-color: white;\n",
              "                         border: 1px solid gray; text-align: center; vertical-align: middle;\n",
              "                         font-family: Arial; font-size: 12px;\">0</td><td style=\"width: 30px; height: 30px; background-color: white;\n",
              "                         border: 1px solid gray; text-align: center; vertical-align: middle;\n",
              "                         font-family: Arial; font-size: 12px;\">6</td></tr></table>"
            ]
          },
          "metadata": {}
        },
        {
          "output_type": "stream",
          "name": "stdout",
          "text": [
            "\n",
            "\n",
            "Step 8:\n"
          ]
        },
        {
          "output_type": "display_data",
          "data": {
            "text/plain": [
              "<IPython.core.display.HTML object>"
            ],
            "text/html": [
              "<table style=\"border-collapse: collapse;\"><tr><td style=\"width: 30px; height: 30px; background-color: white;\n",
              "                         border: 1px solid gray; text-align: center; vertical-align: middle;\n",
              "                         font-family: Arial; font-size: 12px;\">1</td><td style=\"width: 30px; height: 30px; background-color: white;\n",
              "                         border: 1px solid gray; text-align: center; vertical-align: middle;\n",
              "                         font-family: Arial; font-size: 12px;\">2</td><td style=\"width: 30px; height: 30px; background-color: white;\n",
              "                         border: 1px solid gray; text-align: center; vertical-align: middle;\n",
              "                         font-family: Arial; font-size: 12px;\">3</td></tr><tr><td style=\"width: 30px; height: 30px; background-color: white;\n",
              "                         border: 1px solid gray; text-align: center; vertical-align: middle;\n",
              "                         font-family: Arial; font-size: 12px;\">8</td><td style=\"width: 30px; height: 30px; background-color: white;\n",
              "                         border: 1px solid gray; text-align: center; vertical-align: middle;\n",
              "                         font-family: Arial; font-size: 12px;\">0</td><td style=\"width: 30px; height: 30px; background-color: white;\n",
              "                         border: 1px solid gray; text-align: center; vertical-align: middle;\n",
              "                         font-family: Arial; font-size: 12px;\">5</td></tr><tr><td style=\"width: 30px; height: 30px; background-color: white;\n",
              "                         border: 1px solid gray; text-align: center; vertical-align: middle;\n",
              "                         font-family: Arial; font-size: 12px;\">4</td><td style=\"width: 30px; height: 30px; background-color: white;\n",
              "                         border: 1px solid gray; text-align: center; vertical-align: middle;\n",
              "                         font-family: Arial; font-size: 12px;\">7</td><td style=\"width: 30px; height: 30px; background-color: white;\n",
              "                         border: 1px solid gray; text-align: center; vertical-align: middle;\n",
              "                         font-family: Arial; font-size: 12px;\">6</td></tr></table>"
            ]
          },
          "metadata": {}
        },
        {
          "output_type": "stream",
          "name": "stdout",
          "text": [
            "\n",
            "\n",
            "Step 9:\n"
          ]
        },
        {
          "output_type": "display_data",
          "data": {
            "text/plain": [
              "<IPython.core.display.HTML object>"
            ],
            "text/html": [
              "<table style=\"border-collapse: collapse;\"><tr><td style=\"width: 30px; height: 30px; background-color: white;\n",
              "                         border: 1px solid gray; text-align: center; vertical-align: middle;\n",
              "                         font-family: Arial; font-size: 12px;\">1</td><td style=\"width: 30px; height: 30px; background-color: white;\n",
              "                         border: 1px solid gray; text-align: center; vertical-align: middle;\n",
              "                         font-family: Arial; font-size: 12px;\">2</td><td style=\"width: 30px; height: 30px; background-color: white;\n",
              "                         border: 1px solid gray; text-align: center; vertical-align: middle;\n",
              "                         font-family: Arial; font-size: 12px;\">3</td></tr><tr><td style=\"width: 30px; height: 30px; background-color: white;\n",
              "                         border: 1px solid gray; text-align: center; vertical-align: middle;\n",
              "                         font-family: Arial; font-size: 12px;\">0</td><td style=\"width: 30px; height: 30px; background-color: white;\n",
              "                         border: 1px solid gray; text-align: center; vertical-align: middle;\n",
              "                         font-family: Arial; font-size: 12px;\">8</td><td style=\"width: 30px; height: 30px; background-color: white;\n",
              "                         border: 1px solid gray; text-align: center; vertical-align: middle;\n",
              "                         font-family: Arial; font-size: 12px;\">5</td></tr><tr><td style=\"width: 30px; height: 30px; background-color: white;\n",
              "                         border: 1px solid gray; text-align: center; vertical-align: middle;\n",
              "                         font-family: Arial; font-size: 12px;\">4</td><td style=\"width: 30px; height: 30px; background-color: white;\n",
              "                         border: 1px solid gray; text-align: center; vertical-align: middle;\n",
              "                         font-family: Arial; font-size: 12px;\">7</td><td style=\"width: 30px; height: 30px; background-color: white;\n",
              "                         border: 1px solid gray; text-align: center; vertical-align: middle;\n",
              "                         font-family: Arial; font-size: 12px;\">6</td></tr></table>"
            ]
          },
          "metadata": {}
        },
        {
          "output_type": "stream",
          "name": "stdout",
          "text": [
            "\n",
            "\n",
            "Step 10:\n"
          ]
        },
        {
          "output_type": "display_data",
          "data": {
            "text/plain": [
              "<IPython.core.display.HTML object>"
            ],
            "text/html": [
              "<table style=\"border-collapse: collapse;\"><tr><td style=\"width: 30px; height: 30px; background-color: white;\n",
              "                         border: 1px solid gray; text-align: center; vertical-align: middle;\n",
              "                         font-family: Arial; font-size: 12px;\">1</td><td style=\"width: 30px; height: 30px; background-color: white;\n",
              "                         border: 1px solid gray; text-align: center; vertical-align: middle;\n",
              "                         font-family: Arial; font-size: 12px;\">2</td><td style=\"width: 30px; height: 30px; background-color: white;\n",
              "                         border: 1px solid gray; text-align: center; vertical-align: middle;\n",
              "                         font-family: Arial; font-size: 12px;\">3</td></tr><tr><td style=\"width: 30px; height: 30px; background-color: white;\n",
              "                         border: 1px solid gray; text-align: center; vertical-align: middle;\n",
              "                         font-family: Arial; font-size: 12px;\">4</td><td style=\"width: 30px; height: 30px; background-color: white;\n",
              "                         border: 1px solid gray; text-align: center; vertical-align: middle;\n",
              "                         font-family: Arial; font-size: 12px;\">8</td><td style=\"width: 30px; height: 30px; background-color: white;\n",
              "                         border: 1px solid gray; text-align: center; vertical-align: middle;\n",
              "                         font-family: Arial; font-size: 12px;\">5</td></tr><tr><td style=\"width: 30px; height: 30px; background-color: white;\n",
              "                         border: 1px solid gray; text-align: center; vertical-align: middle;\n",
              "                         font-family: Arial; font-size: 12px;\">0</td><td style=\"width: 30px; height: 30px; background-color: white;\n",
              "                         border: 1px solid gray; text-align: center; vertical-align: middle;\n",
              "                         font-family: Arial; font-size: 12px;\">7</td><td style=\"width: 30px; height: 30px; background-color: white;\n",
              "                         border: 1px solid gray; text-align: center; vertical-align: middle;\n",
              "                         font-family: Arial; font-size: 12px;\">6</td></tr></table>"
            ]
          },
          "metadata": {}
        },
        {
          "output_type": "stream",
          "name": "stdout",
          "text": [
            "\n",
            "\n",
            "Step 11:\n"
          ]
        },
        {
          "output_type": "display_data",
          "data": {
            "text/plain": [
              "<IPython.core.display.HTML object>"
            ],
            "text/html": [
              "<table style=\"border-collapse: collapse;\"><tr><td style=\"width: 30px; height: 30px; background-color: white;\n",
              "                         border: 1px solid gray; text-align: center; vertical-align: middle;\n",
              "                         font-family: Arial; font-size: 12px;\">1</td><td style=\"width: 30px; height: 30px; background-color: white;\n",
              "                         border: 1px solid gray; text-align: center; vertical-align: middle;\n",
              "                         font-family: Arial; font-size: 12px;\">2</td><td style=\"width: 30px; height: 30px; background-color: white;\n",
              "                         border: 1px solid gray; text-align: center; vertical-align: middle;\n",
              "                         font-family: Arial; font-size: 12px;\">3</td></tr><tr><td style=\"width: 30px; height: 30px; background-color: white;\n",
              "                         border: 1px solid gray; text-align: center; vertical-align: middle;\n",
              "                         font-family: Arial; font-size: 12px;\">4</td><td style=\"width: 30px; height: 30px; background-color: white;\n",
              "                         border: 1px solid gray; text-align: center; vertical-align: middle;\n",
              "                         font-family: Arial; font-size: 12px;\">8</td><td style=\"width: 30px; height: 30px; background-color: white;\n",
              "                         border: 1px solid gray; text-align: center; vertical-align: middle;\n",
              "                         font-family: Arial; font-size: 12px;\">5</td></tr><tr><td style=\"width: 30px; height: 30px; background-color: white;\n",
              "                         border: 1px solid gray; text-align: center; vertical-align: middle;\n",
              "                         font-family: Arial; font-size: 12px;\">7</td><td style=\"width: 30px; height: 30px; background-color: white;\n",
              "                         border: 1px solid gray; text-align: center; vertical-align: middle;\n",
              "                         font-family: Arial; font-size: 12px;\">0</td><td style=\"width: 30px; height: 30px; background-color: white;\n",
              "                         border: 1px solid gray; text-align: center; vertical-align: middle;\n",
              "                         font-family: Arial; font-size: 12px;\">6</td></tr></table>"
            ]
          },
          "metadata": {}
        },
        {
          "output_type": "stream",
          "name": "stdout",
          "text": [
            "\n",
            "\n",
            "Step 12:\n"
          ]
        },
        {
          "output_type": "display_data",
          "data": {
            "text/plain": [
              "<IPython.core.display.HTML object>"
            ],
            "text/html": [
              "<table style=\"border-collapse: collapse;\"><tr><td style=\"width: 30px; height: 30px; background-color: white;\n",
              "                         border: 1px solid gray; text-align: center; vertical-align: middle;\n",
              "                         font-family: Arial; font-size: 12px;\">1</td><td style=\"width: 30px; height: 30px; background-color: white;\n",
              "                         border: 1px solid gray; text-align: center; vertical-align: middle;\n",
              "                         font-family: Arial; font-size: 12px;\">2</td><td style=\"width: 30px; height: 30px; background-color: white;\n",
              "                         border: 1px solid gray; text-align: center; vertical-align: middle;\n",
              "                         font-family: Arial; font-size: 12px;\">3</td></tr><tr><td style=\"width: 30px; height: 30px; background-color: white;\n",
              "                         border: 1px solid gray; text-align: center; vertical-align: middle;\n",
              "                         font-family: Arial; font-size: 12px;\">4</td><td style=\"width: 30px; height: 30px; background-color: white;\n",
              "                         border: 1px solid gray; text-align: center; vertical-align: middle;\n",
              "                         font-family: Arial; font-size: 12px;\">0</td><td style=\"width: 30px; height: 30px; background-color: white;\n",
              "                         border: 1px solid gray; text-align: center; vertical-align: middle;\n",
              "                         font-family: Arial; font-size: 12px;\">5</td></tr><tr><td style=\"width: 30px; height: 30px; background-color: white;\n",
              "                         border: 1px solid gray; text-align: center; vertical-align: middle;\n",
              "                         font-family: Arial; font-size: 12px;\">7</td><td style=\"width: 30px; height: 30px; background-color: white;\n",
              "                         border: 1px solid gray; text-align: center; vertical-align: middle;\n",
              "                         font-family: Arial; font-size: 12px;\">8</td><td style=\"width: 30px; height: 30px; background-color: white;\n",
              "                         border: 1px solid gray; text-align: center; vertical-align: middle;\n",
              "                         font-family: Arial; font-size: 12px;\">6</td></tr></table>"
            ]
          },
          "metadata": {}
        },
        {
          "output_type": "stream",
          "name": "stdout",
          "text": [
            "\n",
            "\n",
            "Step 13:\n"
          ]
        },
        {
          "output_type": "display_data",
          "data": {
            "text/plain": [
              "<IPython.core.display.HTML object>"
            ],
            "text/html": [
              "<table style=\"border-collapse: collapse;\"><tr><td style=\"width: 30px; height: 30px; background-color: white;\n",
              "                         border: 1px solid gray; text-align: center; vertical-align: middle;\n",
              "                         font-family: Arial; font-size: 12px;\">1</td><td style=\"width: 30px; height: 30px; background-color: white;\n",
              "                         border: 1px solid gray; text-align: center; vertical-align: middle;\n",
              "                         font-family: Arial; font-size: 12px;\">2</td><td style=\"width: 30px; height: 30px; background-color: white;\n",
              "                         border: 1px solid gray; text-align: center; vertical-align: middle;\n",
              "                         font-family: Arial; font-size: 12px;\">3</td></tr><tr><td style=\"width: 30px; height: 30px; background-color: white;\n",
              "                         border: 1px solid gray; text-align: center; vertical-align: middle;\n",
              "                         font-family: Arial; font-size: 12px;\">4</td><td style=\"width: 30px; height: 30px; background-color: white;\n",
              "                         border: 1px solid gray; text-align: center; vertical-align: middle;\n",
              "                         font-family: Arial; font-size: 12px;\">5</td><td style=\"width: 30px; height: 30px; background-color: white;\n",
              "                         border: 1px solid gray; text-align: center; vertical-align: middle;\n",
              "                         font-family: Arial; font-size: 12px;\">0</td></tr><tr><td style=\"width: 30px; height: 30px; background-color: white;\n",
              "                         border: 1px solid gray; text-align: center; vertical-align: middle;\n",
              "                         font-family: Arial; font-size: 12px;\">7</td><td style=\"width: 30px; height: 30px; background-color: white;\n",
              "                         border: 1px solid gray; text-align: center; vertical-align: middle;\n",
              "                         font-family: Arial; font-size: 12px;\">8</td><td style=\"width: 30px; height: 30px; background-color: white;\n",
              "                         border: 1px solid gray; text-align: center; vertical-align: middle;\n",
              "                         font-family: Arial; font-size: 12px;\">6</td></tr></table>"
            ]
          },
          "metadata": {}
        },
        {
          "output_type": "stream",
          "name": "stdout",
          "text": [
            "\n",
            "\n",
            "Step 14:\n"
          ]
        },
        {
          "output_type": "display_data",
          "data": {
            "text/plain": [
              "<IPython.core.display.HTML object>"
            ],
            "text/html": [
              "<table style=\"border-collapse: collapse;\"><tr><td style=\"width: 30px; height: 30px; background-color: white;\n",
              "                         border: 1px solid gray; text-align: center; vertical-align: middle;\n",
              "                         font-family: Arial; font-size: 12px;\">1</td><td style=\"width: 30px; height: 30px; background-color: white;\n",
              "                         border: 1px solid gray; text-align: center; vertical-align: middle;\n",
              "                         font-family: Arial; font-size: 12px;\">2</td><td style=\"width: 30px; height: 30px; background-color: white;\n",
              "                         border: 1px solid gray; text-align: center; vertical-align: middle;\n",
              "                         font-family: Arial; font-size: 12px;\">3</td></tr><tr><td style=\"width: 30px; height: 30px; background-color: white;\n",
              "                         border: 1px solid gray; text-align: center; vertical-align: middle;\n",
              "                         font-family: Arial; font-size: 12px;\">4</td><td style=\"width: 30px; height: 30px; background-color: white;\n",
              "                         border: 1px solid gray; text-align: center; vertical-align: middle;\n",
              "                         font-family: Arial; font-size: 12px;\">5</td><td style=\"width: 30px; height: 30px; background-color: white;\n",
              "                         border: 1px solid gray; text-align: center; vertical-align: middle;\n",
              "                         font-family: Arial; font-size: 12px;\">6</td></tr><tr><td style=\"width: 30px; height: 30px; background-color: white;\n",
              "                         border: 1px solid gray; text-align: center; vertical-align: middle;\n",
              "                         font-family: Arial; font-size: 12px;\">7</td><td style=\"width: 30px; height: 30px; background-color: white;\n",
              "                         border: 1px solid gray; text-align: center; vertical-align: middle;\n",
              "                         font-family: Arial; font-size: 12px;\">8</td><td style=\"width: 30px; height: 30px; background-color: white;\n",
              "                         border: 1px solid gray; text-align: center; vertical-align: middle;\n",
              "                         font-family: Arial; font-size: 12px;\">0</td></tr></table>"
            ]
          },
          "metadata": {}
        },
        {
          "output_type": "stream",
          "name": "stdout",
          "text": [
            "\n",
            "\n"
          ]
        }
      ]
    },
    {
      "cell_type": "code",
      "source": [],
      "metadata": {
        "id": "Rj5juus5Htc5"
      },
      "execution_count": null,
      "outputs": []
    }
  ]
}
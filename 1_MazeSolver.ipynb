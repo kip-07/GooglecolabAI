{
  "nbformat": 4,
  "nbformat_minor": 0,
  "metadata": {
    "colab": {
      "provenance": [],
      "authorship_tag": "ABX9TyPf9yCG9zDlw7NzrIsCA3i3",
      "include_colab_link": true
    },
    "kernelspec": {
      "name": "python3",
      "display_name": "Python 3"
    },
    "language_info": {
      "name": "python"
    }
  },
  "cells": [
    {
      "cell_type": "markdown",
      "metadata": {
        "id": "view-in-github",
        "colab_type": "text"
      },
      "source": [
        "<a href=\"https://colab.research.google.com/github/kip-07/Maze_Solver/blob/main/1_MazeSolver.ipynb\" target=\"_parent\"><img src=\"https://colab.research.google.com/assets/colab-badge.svg\" alt=\"Open In Colab\"/></a>"
      ]
    },
    {
      "cell_type": "code",
      "source": [
        "import numpy as np\n",
        "import matplotlib.pyplot as plt\n",
        "from collections import deque\n",
        "\n"
      ],
      "metadata": {
        "id": "v8uw_jYOk4dn"
      },
      "execution_count": 5,
      "outputs": []
    },
    {
      "cell_type": "code",
      "source": [
        "# Define your maze structure here\n",
        "maze_structure = [\n",
        "    ['S', '.', '.', '.', '.', '.', '.', '.', '.', '.'],\n",
        "    ['.', '#', '.', '#', '#', '#', '#', '#', '#', '.'],\n",
        "    ['.', '#', '.', '.', '.', '.', '.', '.', '#', '.'],\n",
        "    ['.', '#', '#', '#', '#', '#', '#', '.', '#', '.'],\n",
        "    ['.', '.', '.', '.', '.', '.', '#', '.', '#', '.'],\n",
        "    ['.', '#', '#', '#', '#', '.', '#', '.', '#', '.'],\n",
        "    ['.', '.', '.', '.', '#', '.', '.', '.', '#', '.'],\n",
        "    ['#', '#', '#', '#', '#', '#', '#', '#', '#', '.'],\n",
        "    ['.', '.', '.', '.', '.', '.', '.', '.', '.', '.'],\n",
        "    ['.', '.', '.', '.', '.', '.', '.', '.', '.', 'E'],\n",
        "]\n",
        "\n",
        "# Convert the maze structure to a NumPy array\n",
        "maze = np.array(maze_structure)\n"
      ],
      "metadata": {
        "id": "XRHga0z6Aw7N"
      },
      "execution_count": 6,
      "outputs": []
    },
    {
      "cell_type": "code",
      "source": [
        "#it is same as maze visualization\n",
        "def display_grid(maze, explored=None, path=None):\n",
        "    color_map = {\n",
        "        '#': 'black',  # Wall\n",
        "        '.': 'white',  # Open path\n",
        "        'S': 'green',  # Start\n",
        "        'E': 'red'     # End\n",
        "    }\n",
        "    rows, cols = maze.shape\n",
        "    fig, ax = plt.subplots(figsize=(8, 8)) #creates matplotlib figure and set size\n",
        "\n",
        "\n",
        "# Create grid\n",
        "    for r in range(rows):\n",
        "        for c in range(cols):\n",
        "            color = color_map[maze[r, c]]\n",
        "            ax.add_patch(plt.Rectangle((c, r), 1, 1, color=color))\n",
        "\n",
        "    # Highlight explored nodes\n",
        "    if explored:\n",
        "        for r, c in explored:\n",
        "            ax.add_patch(plt.Rectangle((c, r), 1, 1, color='lightblue', alpha=0.6)) #draws lightblue rectangle with transparency 0.6\n",
        "\n",
        "    # Highlight final path\n",
        "    if path:\n",
        "        for r, c in path:\n",
        "            ax.add_patch(plt.Rectangle((c, r), 1, 1, color='yellow', alpha=0.6))\n",
        "\n",
        "    # Adjust the grid and axes\n",
        "    ax.set_xlim(0, cols)\n",
        "    ax.set_ylim(0, rows)\n",
        "    ax.set_xticks(np.arange(0, cols+1, 1)) #to ensure alignment b\\w grid lines and maze cells\n",
        "    ax.set_yticks(np.arange(0, rows+1, 1))\n",
        "    ax.set_xticklabels([])\n",
        "    ax.set_yticklabels([])\n",
        "    ax.grid(color='gray')\n",
        "    plt.gca().invert_yaxis()#by default origin(0,0)so to make topleft corner the origin\n",
        "    plt.show()\n",
        "\n",
        "# Example Maze\n",
        "\n",
        "display_grid(maze)\n"
      ],
      "metadata": {
        "colab": {
          "base_uri": "https://localhost:8080/",
          "height": 657
        },
        "id": "Ss8qwVyXJMyc",
        "outputId": "23710c58-4edd-47f7-bd44-5db52445f154"
      },
      "execution_count": 7,
      "outputs": [
        {
          "output_type": "display_data",
          "data": {
            "text/plain": [
              "<Figure size 800x800 with 1 Axes>"
            ],
            "image/png": "[encoded data removed]"
          },
          "metadata": {}
        }
      ]
    },
    {
      "cell_type": "code",
      "source": [
        "def bfs_with_visualization(maze):\n",
        "    rows, cols = maze.shape\n",
        "    directions = [(0, 1), (1, 0), (0, -1), (-1, 0)]#right,down,left,up\n",
        "    start, end = (0, 0), (rows - 1, cols - 1)\n",
        "    queue = deque([start])\n",
        "    visited = set()\n",
        "    visited.add(start)\n",
        "    parent = {start: None}#cell from which the current cell was reached\n",
        "    explored = []\n",
        "\n",
        "    while queue:\n",
        "        r, c = queue.popleft()#removes first element from left(FIFO)\n",
        "        explored.append((r, c))\n",
        "\n",
        "        if (r, c) == end:\n",
        "            path = [] #empty list path store coordinates from S to E\n",
        "            curr = end  # trace back the path from E\n",
        "            while curr:  # curr is not None or (None, None)\n",
        "                path.append(curr)\n",
        "                curr = parent.get(curr)  # Get parent of current node\n",
        "            return path[::-1], explored  # Reverse path for start to end\n",
        "\n",
        "        for dr, dc in directions:\n",
        "            nr, nc = r + dr, c + dc\n",
        "            if 0 <= nr < rows and 0 <= nc < cols and maze[nr, nc] != '#' and (nr, nc) not in visited:\n",
        "              #checks if neighboring cell is valid and should be explored\n",
        "                queue.append((nr, nc))\n",
        "                visited.add((nr, nc))\n",
        "                parent[(nr, nc)] = (r, c)\n",
        "\n",
        "    return None, explored  # Return None if no path is found\n"
      ],
      "metadata": {
        "id": "GDI7mcyvV8O7"
      },
      "execution_count": 8,
      "outputs": []
    },
    {
      "cell_type": "code",
      "source": [
        "def dfs_with_visualization(maze):\n",
        "    rows, cols = maze.shape\n",
        "    directions = [(0, 1), (1, 0), (0, -1), (-1, 0)]\n",
        "    start, end = (0, 0), (rows-1, cols-1)\n",
        "    stack = [(start, [start])]\n",
        "    visited = set()\n",
        "    explored = []\n",
        "\n",
        "    while stack:\n",
        "        (r, c), path = stack.pop()\n",
        "        explored.append((r, c))\n",
        "        visited.add((r, c))\n",
        "\n",
        "        if (r, c) == end: #checks for end node\n",
        "            return path, explored\n",
        "\n",
        "        for dr, dc in directions:\n",
        "            nr, nc = r + dr, c + dc\n",
        "            if 0 <= nr < rows and 0 <= nc < cols and maze[nr, nc] != '#' and (nr, nc) not in visited:\n",
        "                stack.append(((nr, nc), path + [(nr, nc)]))\n",
        "\n",
        "    return None, explored\n"
      ],
      "metadata": {
        "id": "i26aZ7ecRi6p"
      },
      "execution_count": 9,
      "outputs": []
    },
    {
      "cell_type": "code",
      "source": [
        "import time\n",
        "\n",
        "start_time = time.time()\n",
        "bfs_path, bfs_nodes = bfs_with_visualization(maze)\n",
        "bfs_time = time.time() - start_time\n",
        "\n",
        "# Run DFS\n",
        "start_time = time.time()\n",
        "dfs_path, dfs_nodes = dfs_with_visualization(maze)\n",
        "dfs_time = time.time() - start_time\n",
        "\n",
        "# Visualization and Comparison\n",
        "print(\"\\n--- BFS Results ---\")\n",
        "if bfs_path:\n",
        "    print(f\"Path: {bfs_path}\")\n",
        "    print(f\"Nodes Explored: {bfs_nodes}\")\n",
        "    print(f\"Execution Time: {bfs_time:.4f} seconds\")\n",
        "    display_grid(maze, 0, bfs_path)\n",
        "else:\n",
        "    print(\"No path found with BFS.\")\n",
        "\n",
        "print(\"\\n--- DFS Results ---\")\n",
        "if dfs_path:\n",
        "    print(f\"Path: {dfs_path}\")\n",
        "    print(f\"Nodes Explored: {dfs_nodes}\")\n",
        "    print(f\"Execution Time: {dfs_time:.4f} seconds\")\n",
        "    display_grid(maze, 0, dfs_path)\n",
        "else:\n",
        "    print(\"No path found with DFS.\")\n",
        "\n",
        "# Compare Metrics\n",
        "print(\"\\n--- Comparison ---\")\n",
        "print(f\"Time Taken (BFS vs DFS): {bfs_time:.4f} vs {dfs_time:.4f}\")\n",
        "print(f\"Nodes Explored (BFS vs DFS): {bfs_nodes} vs {dfs_nodes}\")\n",
        "print(\"Path Optimality:\")\n",
        "if bfs_path and dfs_path:\n",
        "    print(f\"Path Length (BFS vs DFS): {len(bfs_path)} vs {len(dfs_path)}\")\n",
        "    print(\"BFS is optimal for shortest path.\")\n",
        "\n",
        "# Measure BFS Performance\n",
        "start_time = time.time()\n",
        "bfs_path, bfs_explored = bfs_with_visualization(maze)\n",
        "bfs_time = time.time() - start_time\n",
        "\n",
        "# Measure DFS Performance\n",
        "start_time = time.time()\n",
        "dfs_path, dfs_explored = dfs_with_visualization(maze)\n",
        "dfs_time = time.time() - start_time\n",
        "\n",
        "# Display Metrics\n",
        "print(\"\\nPerformance Metrics:\")\n",
        "print(f\"BFS - Time: {bfs_time:.4f}s, Nodes Explored: {len(bfs_explored)}\")\n",
        "print(f\"DFS - Time: {dfs_time:.4f}s, Nodes Explored: {len(dfs_explored)}\")\n"
      ],
      "metadata": {
        "colab": {
          "base_uri": "https://localhost:8080/",
          "height": 1000
        },
        "id": "-WcNoWXBRoAb",
        "outputId": "71f3a536-73c9-4f9d-bdb3-cdd732a943ab"
      },
      "execution_count": 10,
      "outputs": [
        {
          "output_type": "stream",
          "name": "stdout",
          "text": [
            "\n",
            "--- BFS Results ---\n",
            "Path: [(0, 0), (0, 1), (0, 2), (0, 3), (0, 4), (0, 5), (0, 6), (0, 7), (0, 8), (0, 9), (1, 9), (2, 9), (3, 9), (4, 9), (5, 9), (6, 9), (7, 9), (8, 9), (9, 9)]\n",
            "Nodes Explored: [(0, 0), (0, 1), (1, 0), (0, 2), (2, 0), (0, 3), (1, 2), (3, 0), (0, 4), (2, 2), (4, 0), (0, 5), (2, 3), (4, 1), (5, 0), (0, 6), (2, 4), (4, 2), (6, 0), (0, 7), (2, 5), (4, 3), (6, 1), (0, 8), (2, 6), (4, 4), (6, 2), (0, 9), (2, 7), (4, 5), (6, 3), (1, 9), (3, 7), (5, 5), (2, 9), (4, 7), (6, 5), (3, 9), (5, 7), (6, 6), (4, 9), (6, 7), (5, 9), (6, 9), (7, 9), (8, 9), (9, 9)]\n",
            "Execution Time: 0.0009 seconds\n"
          ]
        },
        {
          "output_type": "display_data",
          "data": {
            "text/plain": [
              "<Figure size 800x800 with 1 Axes>"
            ],
            "image/png": "[encoded data removed]"
          },
          "metadata": {}
        },
        {
          "output_type": "stream",
          "name": "stdout",
          "text": [
            "\n",
            "--- DFS Results ---\n",
            "Path: [(0, 0), (1, 0), (2, 0), (3, 0), (4, 0), (4, 1), (4, 2), (4, 3), (4, 4), (4, 5), (5, 5), (6, 5), (6, 6), (6, 7), (5, 7), (4, 7), (3, 7), (2, 7), (2, 6), (2, 5), (2, 4), (2, 3), (2, 2), (1, 2), (0, 2), (0, 3), (0, 4), (0, 5), (0, 6), (0, 7), (0, 8), (0, 9), (1, 9), (2, 9), (3, 9), (4, 9), (5, 9), (6, 9), (7, 9), (8, 9), (8, 8), (8, 7), (8, 6), (8, 5), (8, 4), (8, 3), (8, 2), (8, 1), (8, 0), (9, 0), (9, 1), (9, 2), (9, 3), (9, 4), (9, 5), (9, 6), (9, 7), (9, 8), (9, 9)]\n",
            "Nodes Explored: [(0, 0), (1, 0), (2, 0), (3, 0), (4, 0), (5, 0), (6, 0), (6, 1), (6, 2), (6, 3), (4, 1), (4, 2), (4, 3), (4, 4), (4, 5), (5, 5), (6, 5), (6, 6), (6, 7), (5, 7), (4, 7), (3, 7), (2, 7), (2, 6), (2, 5), (2, 4), (2, 3), (2, 2), (1, 2), (0, 2), (0, 1), (0, 3), (0, 4), (0, 5), (0, 6), (0, 7), (0, 8), (0, 9), (1, 9), (2, 9), (3, 9), (4, 9), (5, 9), (6, 9), (7, 9), (8, 9), (8, 8), (8, 7), (8, 6), (8, 5), (8, 4), (8, 3), (8, 2), (8, 1), (8, 0), (9, 0), (9, 1), (9, 2), (9, 3), (9, 4), (9, 5), (9, 6), (9, 7), (9, 8), (9, 9)]\n",
            "Execution Time: 0.0005 seconds\n"
          ]
        },
        {
          "output_type": "display_data",
          "data": {
            "text/plain": [
              "<Figure size 800x800 with 1 Axes>"
            ],
            "image/png": "[encoded data removed]"
          },
          "metadata": {}
        },
        {
          "output_type": "stream",
          "name": "stdout",
          "text": [
            "\n",
            "--- Comparison ---\n",
            "Time Taken (BFS vs DFS): 0.0009 vs 0.0005\n",
            "Nodes Explored (BFS vs DFS): [(0, 0), (0, 1), (1, 0), (0, 2), (2, 0), (0, 3), (1, 2), (3, 0), (0, 4), (2, 2), (4, 0), (0, 5), (2, 3), (4, 1), (5, 0), (0, 6), (2, 4), (4, 2), (6, 0), (0, 7), (2, 5), (4, 3), (6, 1), (0, 8), (2, 6), (4, 4), (6, 2), (0, 9), (2, 7), (4, 5), (6, 3), (1, 9), (3, 7), (5, 5), (2, 9), (4, 7), (6, 5), (3, 9), (5, 7), (6, 6), (4, 9), (6, 7), (5, 9), (6, 9), (7, 9), (8, 9), (9, 9)] vs [(0, 0), (1, 0), (2, 0), (3, 0), (4, 0), (5, 0), (6, 0), (6, 1), (6, 2), (6, 3), (4, 1), (4, 2), (4, 3), (4, 4), (4, 5), (5, 5), (6, 5), (6, 6), (6, 7), (5, 7), (4, 7), (3, 7), (2, 7), (2, 6), (2, 5), (2, 4), (2, 3), (2, 2), (1, 2), (0, 2), (0, 1), (0, 3), (0, 4), (0, 5), (0, 6), (0, 7), (0, 8), (0, 9), (1, 9), (2, 9), (3, 9), (4, 9), (5, 9), (6, 9), (7, 9), (8, 9), (8, 8), (8, 7), (8, 6), (8, 5), (8, 4), (8, 3), (8, 2), (8, 1), (8, 0), (9, 0), (9, 1), (9, 2), (9, 3), (9, 4), (9, 5), (9, 6), (9, 7), (9, 8), (9, 9)]\n",
            "Path Optimality:\n",
            "Path Length (BFS vs DFS): 19 vs 59\n",
            "BFS is optimal for shortest path.\n",
            "\n",
            "Performance Metrics:\n",
            "BFS - Time: 0.0003s, Nodes Explored: 47\n",
            "DFS - Time: 0.0003s, Nodes Explored: 65\n"
          ]
        }
      ]
    },
    {
      "cell_type": "code",
      "source": [
        "def bidirectional_bfs(maze):\n",
        "    rows, cols = len(maze), len(maze[0])\n",
        "    start, end = (0, 0), (rows - 1, cols - 1)\n",
        "    queue_start = Queue()\n",
        "    queue_end = Queue()\n",
        "    queue_start.put((start, [start]))\n",
        "    queue_end.put((end, [end]))\n",
        "\n",
        "    visited_start = {start: [start]}\n",
        "    visited_end = {end: [end]}\n",
        "\n",
        "    while not queue_start.empty() and not queue_end.empty():\n",
        "        # Forward Search\n",
        "        current_start, path_start = queue_start.get()\n",
        "        row, col = current_start\n",
        "        for dr, dc in [(-1, 0), (1, 0), (0, -1), (0, 1)]:\n",
        "            r, c = row + dr, col + dc\n",
        "            if 0 <= r < rows and 0 <= c < cols and maze[r][c] == '.' and (r, c) not in visited_start:\n",
        "                new_path = path_start + [(r, c)]\n",
        "                visited_start[(r, c)] = new_path\n",
        "                queue_start.put(((r, c), new_path))\n",
        "                if (r, c) in visited_end:\n",
        "                    return new_path + visited_end[(r, c)][::-1], len(visited_start) + len(visited_end)\n",
        "\n",
        "        # Backward Search\n",
        "        current_end, path_end = queue_end.get()\n",
        "        row, col = current_end\n",
        "        for dr, dc in [(-1, 0), (1, 0), (0, -1), (0, 1)]:\n",
        "            r, c = row + dr, col + dc\n",
        "            if 0 <= r < rows and 0 <= c < cols and maze[r][c] == '.' and (r, c) not in visited_end:\n",
        "                new_path = path_end + [(r, c)]\n",
        "                visited_end[(r, c)] = new_path\n",
        "                queue_end.put(((r, c), new_path))\n",
        "                if (r, c) in visited_start:\n",
        "                    return visited_start[(r, c)] + new_path[::-1], len(visited_start) + len(visited_end)\n",
        "\n",
        "    return None, len(visited_start) + len(visited_end)\n"
      ],
      "metadata": {
        "id": "DY1mxyXdKFaS"
      },
      "execution_count": 11,
      "outputs": []
    },
    {
      "cell_type": "code",
      "source": [
        "def bidirectional_dfs(maze):\n",
        "    rows, cols = len(maze), len(maze[0])\n",
        "    start, end = (0, 0), (rows - 1, cols - 1)\n",
        "    stack_start = [(start, [start])]\n",
        "    stack_end = [(end, [end])]\n",
        "\n",
        "    visited_start = {start: [start]}\n",
        "    visited_end = {end: [end]}\n",
        "\n",
        "    while stack_start and stack_end:\n",
        "        # Forward Search\n",
        "        current_start, path_start = stack_start.pop()\n",
        "        row, col = current_start\n",
        "        for dr, dc in [(-1, 0), (1, 0), (0, -1), (0, 1)]:\n",
        "            r, c = row + dr, col + dc\n",
        "            if 0 <= r < rows and 0 <= c < cols and maze[r][c] == '.' and (r, c) not in visited_start:\n",
        "                new_path = path_start + [(r, c)]\n",
        "                visited_start[(r, c)] = new_path\n",
        "                stack_start.append(((r, c), new_path))\n",
        "                if (r, c) in visited_end:\n",
        "                    return new_path + visited_end[(r, c)][::-1], len(visited_start) + len(visited_end)\n",
        "\n",
        "        # Backward Search\n",
        "        current_end, path_end = stack_end.pop()\n",
        "        row, col = current_end\n",
        "        for dr, dc in [(-1, 0), (1, 0), (0, -1), (0, 1)]:\n",
        "            r, c = row + dr, col + dc\n",
        "            if 0 <= r < rows and 0 <= c < cols and maze[r][c] == '.' and (r, c) not in visited_end:\n",
        "                new_path = path_end + [(r, c)]\n",
        "                visited_end[(r, c)] = new_path\n",
        "                stack_end.append(((r, c), new_path))\n",
        "                if (r, c) in visited_start:\n",
        "                    return visited_start[(r, c)] + new_path[::-1], len(visited_start) + len(visited_end)\n",
        "\n",
        "    return None, len(visited_start) + len(visited_end)\n"
      ],
      "metadata": {
        "id": "KmjVTbuBfAFx"
      },
      "execution_count": 12,
      "outputs": []
    },
    {
      "cell_type": "code",
      "source": [
        "import time\n",
        "from queue import Queue\n",
        "# Run Bi-Directional BFS\n",
        "start_time = time.time()\n",
        "start = (0,0)\n",
        "rows, cols = maze.shape\n",
        "end = (rows-1 , cols-1)\n",
        "bidirectional_bfs_path, bidirectional_bfs_nodes = bidirectional_bfs(maze)\n",
        "bidirectional_bfs_time = time.time() - start_time\n",
        "\n",
        "# Run Bi-Directional DFS\n",
        "start_time = time.time()\n",
        "bidirectional_dfs_path, bidirectional_dfs_nodes = bidirectional_dfs(maze)\n",
        "bidirectional_dfs_time = time.time() - start_time\n",
        "\n",
        "if bidirectional_bfs_path:\n",
        "    print(f\"Path: {bidirectional_bfs_path}\")\n",
        "    print(f\"Nodes Explored: {bidirectional_bfs_nodes}\")\n",
        "    print(f\"Execution Time: {bidirectional_bfs_time:.4f} seconds\")\n",
        "    display_grid(maze,0 , bidirectional_bfs_path)\n",
        "else:\n",
        "    print(\"No path found with Bi-Directional BFS.\")\n",
        "\n",
        "if bidirectional_dfs_path:\n",
        "    print(f\"Path: {bidirectional_dfs_path}\")\n",
        "    print(f\"Nodes Explored: {bidirectional_dfs_nodes}\")\n",
        "    print(f\"Execution Time: {bidirectional_dfs_time:.4f} seconds\")\n",
        "    display_grid(maze,0 , bidirectional_dfs_path)\n",
        "else:\n",
        "    print(\"No path found with Bi-Directional DFS.\")\n"
      ],
      "metadata": {
        "colab": {
          "base_uri": "https://localhost:8080/",
          "height": 1000
        },
        "id": "Gbw3uJAKfBPy",
        "outputId": "05237070-ecf2-46fd-a456-65d05e5608db"
      },
      "execution_count": 13,
      "outputs": [
        {
          "output_type": "stream",
          "name": "stdout",
          "text": [
            "Path: [(0, 0), (0, 1), (0, 2), (0, 3), (0, 4), (0, 5), (0, 6), (0, 7), (0, 8), (0, 8), (0, 9), (1, 9), (2, 9), (3, 9), (4, 9), (5, 9), (6, 9), (7, 9), (8, 9), (9, 9)]\n",
            "Nodes Explored: 57\n",
            "Execution Time: 0.0011 seconds\n"
          ]
        },
        {
          "output_type": "display_data",
          "data": {
            "text/plain": [
              "<Figure size 800x800 with 1 Axes>"
            ],
            "image/png": "[encoded data removed]"
          },
          "metadata": {}
        },
        {
          "output_type": "stream",
          "name": "stdout",
          "text": [
            "Path: [(0, 0), (0, 1), (0, 2), (0, 3), (0, 4), (0, 5), (0, 6), (0, 7), (0, 8), (0, 9), (1, 9), (2, 9), (3, 9), (4, 9), (5, 9), (6, 9), (7, 9), (8, 9), (8, 9), (9, 9)]\n",
            "Nodes Explored: 40\n",
            "Execution Time: 0.0004 seconds\n"
          ]
        },
        {
          "output_type": "display_data",
          "data": {
            "text/plain": [
              "<Figure size 800x800 with 1 Axes>"
            ],
            "image/png": "[encoded data removed]"
          },
          "metadata": {}
        }
      ]
    },
    {
      "cell_type": "code",
      "source": [],
      "metadata": {
        "id": "38to6px8iPPK"
      },
      "execution_count": null,
      "outputs": []
    }
  ]
}
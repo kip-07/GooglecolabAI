{
  "nbformat": 4,
  "nbformat_minor": 0,
  "metadata": {
    "colab": {
      "provenance": [],
      "authorship_tag": "ABX9TyNqrkqeaoDnAzGsaYsoZ7gr",
      "include_colab_link": true
    },
    "kernelspec": {
      "name": "python3",
      "display_name": "Python 3"
    },
    "language_info": {
      "name": "python"
    }
  },
  "cells": [
    {
      "cell_type": "markdown",
      "metadata": {
        "id": "view-in-github",
        "colab_type": "text"
      },
      "source": [
        "<a href=\"https://colab.research.google.com/github/kip-07/Maze_Solver/blob/main/UCS.ipynb\" target=\"_parent\"><img src=\"https://colab.research.google.com/assets/colab-badge.svg\" alt=\"Open In Colab\"/></a>"
      ]
    },
    {
      "cell_type": "code",
      "execution_count": 1,
      "metadata": {
        "id": "0UQ_PsmYroeZ"
      },
      "outputs": [],
      "source": [
        "# Import necessary libraries\n",
        "import heapq  # For priority queue\n",
        "import networkx as nx  # For graph visualization\n",
        "import matplotlib.pyplot as plt  # For plotting\n"
      ]
    },
    {
      "cell_type": "code",
      "source": [
        "def uniform_cost_search(graph, start, goal):\n",
        "    \"\"\"\n",
        "    Perform Uniform Cost Search on a weighted graph.\n",
        "\n",
        "    Args:\n",
        "        graph (dict): Adjacency list representing the graph.\n",
        "                      Keys are nodes, values are lists of tuples (neighbor, cost).\n",
        "        start (str): Starting node.\n",
        "        goal (str): Goal node.\n",
        "\n",
        "    Returns:\n",
        "        tuple: Optimal path as a list of nodes and the total cost.\n",
        "    \"\"\"\n",
        "    # Priority queue: (cumulative_cost, city, path)\n",
        "    pq = [(0, start, [start])]\n",
        "    visited = set()\n",
        "\n",
        "    while pq:\n",
        "        # Pop the node with the least cost\n",
        "        cost, city, path = heapq.heappop(pq)\n",
        "\n",
        "        # Skip if the city is already visited\n",
        "        if city in visited:\n",
        "            continue\n",
        "\n",
        "        # Mark city as visited\n",
        "        visited.add(city)\n",
        "\n",
        "        # Check if the goal is reached\n",
        "        if city == goal:\n",
        "            return path, cost\n",
        "\n",
        "        # Explore neighbors\n",
        "        for neighbor, travel_cost in graph.get(city, []):\n",
        "            if neighbor not in visited:\n",
        "                heapq.heappush(pq, (cost + travel_cost, neighbor, path + [neighbor]))\n",
        "\n",
        "    # Return None if no path is found\n",
        "    return None, float('inf')\n"
      ],
      "metadata": {
        "id": "-oeNaVhItRM5"
      },
      "execution_count": 2,
      "outputs": []
    },
    {
      "cell_type": "code",
      "source": [
        "# Example graph as an adjacency list\n",
        "graph = {\n",
        "    \"A\": [(\"B\", 1), (\"C\", 3)],\n",
        "    \"B\": [(\"A\", 1), (\"D\", 1)],\n",
        "    \"C\": [(\"A\", 3), (\"D\", 1), (\"E\", 4)],\n",
        "    \"D\": [(\"B\", 1), (\"C\", 1), (\"E\", 1)],\n",
        "    \"E\": [(\"C\", 4), (\"D\", 1)]\n",
        "}\n"
      ],
      "metadata": {
        "id": "jfEUc9B624Ss"
      },
      "execution_count": 3,
      "outputs": []
    },
    {
      "cell_type": "code",
      "source": [
        "# Test cases\n",
        "queries = [\n",
        "    (\"A\", \"E\"),  # Expected: Path: A -> B -> D -> E, Cost: 3\n",
        "    (\"A\", \"C\")   # Expected: Path: A -> C, Cost: 3\n",
        "]\n",
        "\n",
        "for start, goal in queries:\n",
        "    path, cost = uniform_cost_search(graph, start, goal)\n",
        "    if path:\n",
        "        print(f\"Start: {start}, Goal: {goal}\")\n",
        "        print(f\"Path: {' -> '.join(path)}, Cost: {cost}\")\n",
        "        print()\n",
        "    else:\n",
        "        print(f\"Start: {start}, Goal: {goal}: No path found.\\n\")\n"
      ],
      "metadata": {
        "colab": {
          "base_uri": "https://localhost:8080/",
          "height": 0
        },
        "id": "c_fOlyC34cH3",
        "outputId": "5d5e6c3c-09d5-44d5-823e-bf72f5930fe0"
      },
      "execution_count": 4,
      "outputs": [
        {
          "output_type": "stream",
          "name": "stdout",
          "text": [
            "Start: A, Goal: E\n",
            "Path: A -> B -> D -> E, Cost: 3\n",
            "\n",
            "Start: A, Goal: C\n",
            "Path: A -> B -> D -> C, Cost: 3\n",
            "\n"
          ]
        }
      ]
    },
    {
      "cell_type": "code",
      "source": [
        "def visualize_graph(graph, path=None):\n",
        "    \"\"\"\n",
        "    Visualize the graph using NetworkX and Matplotlib.\n",
        "\n",
        "    Args:\n",
        "        graph (dict): Adjacency list representing the graph.\n",
        "        path (list): Optional. List of nodes representing the optimal path.\n",
        "    \"\"\"\n",
        "    G = nx.Graph()\n",
        "\n",
        "    # Add edges to the graph\n",
        "    for node, neighbors in graph.items():\n",
        "        for neighbor, weight in neighbors:\n",
        "            G.add_edge(node, neighbor, weight=weight)\n",
        "\n",
        "    # Draw the graph\n",
        "    pos = nx.spring_layout(G)  # Generate positions for the nodes\n",
        "    nx.draw(G, pos, with_labels=True, node_color='lightblue', node_size=3000, font_size=10)\n",
        "    labels = nx.get_edge_attributes(G, 'weight')\n",
        "    nx.draw_networkx_edge_labels(G, pos, edge_labels=labels)\n",
        "\n",
        "    # Highlight the path if provided\n",
        "    if path:\n",
        "        path_edges = [(path[i], path[i+1]) for i in range(len(path)-1)]\n",
        "        nx.draw_networkx_edges(G, pos, edgelist=path_edges, edge_color='red', width=2)\n",
        "\n",
        "    plt.show()\n",
        "\n",
        "# Example visualization\n",
        "start, goal = \"A\", \"E\"\n",
        "path, cost = uniform_cost_search(graph, start, goal)\n",
        "if path:\n",
        "    print(f\"Visualizing the optimal path: {' -> '.join(path)} with cost: {cost}\")\n",
        "    visualize_graph(graph, path)\n",
        "else:\n",
        "    print(\"No path found for visualization.\")\n"
      ],
      "metadata": {
        "colab": {
          "base_uri": "https://localhost:8080/",
          "height": 510
        },
        "id": "-P0mQDzu4hZY",
        "outputId": "32b7c093-ace5-410b-eda4-7f28be2b7195"
      },
      "execution_count": 5,
      "outputs": [
        {
          "output_type": "stream",
          "name": "stdout",
          "text": [
            "Visualizing the optimal path: A -> B -> D -> E with cost: 3\n"
          ]
        },
        {
          "output_type": "display_data",
          "data": {
            "text/plain": [
              "<Figure size 640x480 with 1 Axes>"
            ],
            "image/png": "[encoded data removed]"
          },
          "metadata": {}
        }
      ]
    },
    {
      "cell_type": "code",
      "source": [
        "from collections import deque  # For BFS and DFS"
      ],
      "metadata": {
        "id": "UsLexEsf5juj"
      },
      "execution_count": 6,
      "outputs": []
    },
    {
      "cell_type": "code",
      "source": [
        "def bfs(graph, start, goal):\n",
        "    \"\"\"\n",
        "    Perform Breadth-First Search (BFS) on a graph.\n",
        "\n",
        "    Args:\n",
        "        graph (dict): Adjacency list representing the graph.\n",
        "        start (str): Starting node.\n",
        "        goal (str): Goal node.\n",
        "\n",
        "    Returns:\n",
        "        tuple: Path as a list of nodes and a flag indicating success.\n",
        "    \"\"\"\n",
        "    queue = deque([(start, [start])])  # (current_node, path)\n",
        "    visited = set()\n",
        "\n",
        "    while queue:\n",
        "        node, path = queue.popleft()\n",
        "\n",
        "        if node in visited:\n",
        "            continue\n",
        "        visited.add(node)\n",
        "\n",
        "        if node == goal:\n",
        "            return path, True\n",
        "\n",
        "        for neighbor, _ in graph.get(node, []):  # Ignore weights for BFS\n",
        "            if neighbor not in visited:\n",
        "                queue.append((neighbor, path + [neighbor]))\n",
        "\n",
        "    return None, False  # No path found\n",
        "\n",
        "\n",
        "def dfs(graph, start, goal):\n",
        "    \"\"\"\n",
        "    Perform Depth-First Search (DFS) on a graph.\n",
        "\n",
        "    Args:\n",
        "        graph (dict): Adjacency list representing the graph.\n",
        "        start (str): Starting node.\n",
        "        goal (str): Goal node.\n",
        "\n",
        "    Returns:\n",
        "        tuple: Path as a list of nodes and a flag indicating success.\n",
        "    \"\"\"\n",
        "    stack = [(start, [start])]  # (current_node, path)\n",
        "    visited = set()\n",
        "\n",
        "    while stack:\n",
        "        node, path = stack.pop()\n",
        "\n",
        "        if node in visited:\n",
        "            continue\n",
        "        visited.add(node)\n",
        "\n",
        "        if node == goal:\n",
        "            return path, True\n",
        "\n",
        "        for neighbor, _ in reversed(graph.get(node, [])):  # Ignore weights for DFS\n",
        "            if neighbor not in visited:\n",
        "                stack.append((neighbor, path + [neighbor]))\n",
        "\n",
        "    return None, False  # No path found\n"
      ],
      "metadata": {
        "id": "pfrn_eDGIXkU"
      },
      "execution_count": 7,
      "outputs": []
    },
    {
      "cell_type": "code",
      "source": [
        "# Test cases\n",
        "queries = [\n",
        "    (\"A\", \"E\"),  # Expected output for UCS: Path: A -> B -> D -> E, Cost: 3\n",
        "    (\"A\", \"C\")   # Expected output for UCS: Path: A -> C, Cost: 3\n",
        "]\n",
        "\n",
        "for start, goal in queries:\n",
        "    print(f\"Start: {start}, Goal: {goal}\")\n",
        "\n",
        "    # BFS\n",
        "    bfs_path, bfs_success = bfs(graph, start, goal)\n",
        "    if bfs_success:\n",
        "        print(f\"BFS Path: {' -> '.join(bfs_path)}\")\n",
        "    else:\n",
        "        print(\"BFS: No path found.\")\n",
        "\n",
        "    # DFS\n",
        "    dfs_path, dfs_success = dfs(graph, start, goal)\n",
        "    if dfs_success:\n",
        "        print(f\"DFS Path: {' -> '.join(dfs_path)}\")\n",
        "    else:\n",
        "        print(\"DFS: No path found.\")\n",
        "\n",
        "    # UCS\n",
        "    ucs_path, ucs_cost = uniform_cost_search(graph, start, goal)\n",
        "    if ucs_path:\n",
        "        print(f\"UCS Path: {' -> '.join(ucs_path)}, Cost: {ucs_cost}\")\n",
        "    else:\n",
        "        print(\"UCS: No path found.\")\n",
        "\n",
        "    print()\n"
      ],
      "metadata": {
        "colab": {
          "base_uri": "https://localhost:8080/",
          "height": 0
        },
        "id": "IqhaISABIn_d",
        "outputId": "91dcd116-41d2-49c4-bf49-4a4ca9318ddb"
      },
      "execution_count": 9,
      "outputs": [
        {
          "output_type": "stream",
          "name": "stdout",
          "text": [
            "Start: A, Goal: E\n",
            "BFS Path: A -> C -> E\n",
            "DFS Path: A -> B -> D -> C -> E\n",
            "UCS Path: A -> B -> D -> E, Cost: 3\n",
            "\n",
            "Start: A, Goal: C\n",
            "BFS Path: A -> C\n",
            "DFS Path: A -> B -> D -> C\n",
            "UCS Path: A -> B -> D -> C, Cost: 3\n",
            "\n"
          ]
        }
      ]
    },
    {
      "cell_type": "code",
      "source": [],
      "metadata": {
        "id": "tDMrQ7UlIzhN"
      },
      "execution_count": null,
      "outputs": []
    }
  ]
}